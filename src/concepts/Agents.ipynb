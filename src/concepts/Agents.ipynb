{
 "cells": [
  {
   "cell_type": "markdown",
   "id": "5170bf5b",
   "metadata": {},
   "source": [
    "# Agents - Make OpenAI Do Things For you"
   ]
  },
  {
   "cell_type": "markdown",
   "id": "8d9faa06",
   "metadata": {},
   "source": [
    "*[Source](https://langchain.readthedocs.io/en/latest/modules/agents/getting_started.html)*\n",
    "* **Agent** - Agents use an LLM to determine which actions to take and in what order. An action can either be using a tool and observing its output, or returning to the user.\n",
    "\n",
    "Parameters when creating an agent:\n",
    "* **Tool:** A function that performs a specific duty. This can be things like: Google Search, Database lookup, Python REPL, other chains. The interface for a tool is currently a function that is expected to have a string as an input, with a string as an output.\n",
    "* **LLM:** The language model powering the agent.\n",
    "* **Agent:** The agent to use. This should be a string that references a support agent class. Because this notebook focuses on the simplest, highest level API, this only covers using the standard supported agents. If you want to implement a custom agent, see the documentation for custom agents (coming soon)."
   ]
  },
  {
   "cell_type": "code",
   "execution_count": 57,
   "id": "7f247903",
   "metadata": {},
   "outputs": [],
   "source": [
    "from langchain.agents import load_tools\n",
    "from langchain.agents import initialize_agent\n",
    "from langchain.llms import OpenAI"
   ]
  },
  {
   "cell_type": "code",
   "execution_count": 1,
   "id": "e1772076",
   "metadata": {},
   "outputs": [
    {
     "data": {
      "text/plain": [
       "{'ALLUSERSPROFILE': 'C:\\\\ProgramData',\n",
       " 'APPDATA': 'C:\\\\Users\\\\juanmedina\\\\AppData\\\\Roaming',\n",
       " 'AZURE_SEARCH_KEY': '<hidden>',\n",
       " 'AZURE_SEARCH_SERVICE': 'https://vs-securitysurvey.search.windows.net',\n",
       " 'CHROMA_PATH': 'D:\\\\code\\\\python\\\\chroma\\\\seguridaddb',\n",
       " 'CHROME_CRASHPAD_PIPE_NAME': '\\\\\\\\.\\\\pipe\\\\crashpad_13756_IUQJYRLGNVGEDPDM',\n",
       " 'COMMONPROGRAMFILES': 'C:\\\\Program Files\\\\Common Files',\n",
       " 'COMMONPROGRAMFILES(X86)': 'C:\\\\Program Files (x86)\\\\Common Files',\n",
       " 'COMMONPROGRAMW6432': 'C:\\\\Program Files\\\\Common Files',\n",
       " 'COMPUTERNAME': 'SETI7150',\n",
       " 'COMSPEC': 'C:\\\\WINDOWS\\\\system32\\\\cmd.exe',\n",
       " 'DBA_PDF_PATH': 'data\\\\dba',\n",
       " 'DEFLOGDIR': 'C:\\\\ProgramData\\\\McAfee\\\\Endpoint Security\\\\Logs',\n",
       " 'DRIVERDATA': 'C:\\\\Windows\\\\System32\\\\Drivers\\\\DriverData',\n",
       " 'EFC_10804': '1',\n",
       " 'ELECTRON_RUN_AS_NODE': '1',\n",
       " 'EMBEDDING_MODEL_CHUNKS': 'sentence-transformers/all-mpnet-base-v2',\n",
       " 'EMBEDDING_MODEL_QA': 'sentence-transformers/multi-qa-MiniLM-L6-dot-v1',\n",
       " 'EXCEL_FILE_PATH': 'data\\\\encuesta\\\\Modelo BD Cuestionarios_V1.xlsx',\n",
       " 'GOOGLE_API_KEY': '<hidden>',\n",
       " 'HOMEDRIVE': 'C:',\n",
       " 'HOMEPATH': '\\\\Users\\\\juanmedina',\n",
       " 'HUGGINGFACEHUB_API_TOKEN': '<hidden>',\n",
       " 'JAVA_HOME': 'C:\\\\Program Files\\\\Java\\\\jdk-20',\n",
       " 'JPY_INTERRUPT_EVENT': '1832',\n",
       " 'LANGCHAIN_API_KEY': '<hidden>',\n",
       " 'LOCALAPPDATA': 'C:\\\\Users\\\\juanmedina\\\\AppData\\\\Local',\n",
       " 'LOGONSERVER': '\\\\\\\\SRVSETIS401',\n",
       " 'NUMBER_OF_PROCESSORS': '8',\n",
       " 'ONEDRIVE': 'C:\\\\Users\\\\juanmedina\\\\OneDrive - SETI S.A.S',\n",
       " 'ONEDRIVECOMMERCIAL': 'C:\\\\Users\\\\juanmedina\\\\OneDrive - SETI S.A.S',\n",
       " 'ONEDRIVECONSUMER': 'C:\\\\oneDrive2\\\\OneDrive',\n",
       " 'ONLINESERVICES': 'Online Services',\n",
       " 'ORIGINAL_XDG_CURRENT_DESKTOP': 'undefined',\n",
       " 'OS': 'Windows_NT',\n",
       " 'PATH': 'c:\\\\code\\\\python\\\\SETI\\\\GenAI\\\\.venv\\\\Scripts;C:\\\\code\\\\python\\\\SETI\\\\GenAI\\\\.venv\\\\Scripts;C:\\\\Program Files\\\\Common Files\\\\Oracle\\\\Java\\\\javapath;C:\\\\WINDOWS\\\\system32;C:\\\\WINDOWS;C:\\\\WINDOWS\\\\System32\\\\Wbem;C:\\\\WINDOWS\\\\System32\\\\WindowsPowerShell\\\\v1.0\\\\;C:\\\\WINDOWS\\\\System32\\\\OpenSSH\\\\;C:\\\\Program Files\\\\Java\\\\jdk-20\\\\bin;C:\\\\Program Files\\\\Git\\\\cmd;C:\\\\Program Files\\\\PowerShell\\\\7\\\\;C:\\\\Program Files\\\\Python312;C:\\\\Users\\\\juanmedina\\\\AppData\\\\Local\\\\Microsoft\\\\WindowsApps;C:\\\\Users\\\\juanmedina\\\\AppData\\\\Local\\\\Programs\\\\Microsoft VS Code\\\\bin;C:\\\\Users\\\\juanmedina\\\\AppData\\\\Local\\\\Programs\\\\Python\\\\Python312;C:\\\\code\\\\poetry;',\n",
       " 'PATHEXT': '.COM;.EXE;.BAT;.CMD;.VBS;.VBE;.JS;.JSE;.WSF;.WSH;.MSC',\n",
       " 'PLATFORMCODE': 'AN',\n",
       " 'POWERSHELL_DISTRIBUTION_CHANNEL': 'MSI:Windows 10 Pro',\n",
       " 'PROCESSOR_ARCHITECTURE': 'AMD64',\n",
       " 'PROCESSOR_IDENTIFIER': 'Intel64 Family 6 Model 140 Stepping 1, GenuineIntel',\n",
       " 'PROCESSOR_LEVEL': '6',\n",
       " 'PROCESSOR_REVISION': '8c01',\n",
       " 'PROGRAMDATA': 'C:\\\\ProgramData',\n",
       " 'PROGRAMFILES': 'C:\\\\Program Files',\n",
       " 'PROGRAMFILES(X86)': 'C:\\\\Program Files (x86)',\n",
       " 'PROGRAMW6432': 'C:\\\\Program Files',\n",
       " 'PROMPT': '(.venv) $P$G',\n",
       " 'PSMODULEPATH': 'C:\\\\Program Files\\\\WindowsPowerShell\\\\Modules;C:\\\\WINDOWS\\\\system32\\\\WindowsPowerShell\\\\v1.0\\\\Modules',\n",
       " 'PUBLIC': 'C:\\\\Users\\\\Public',\n",
       " 'PYDEVD_IPYTHON_COMPATIBLE_DEBUGGING': '1',\n",
       " 'PYTHONIOENCODING': 'utf-8',\n",
       " 'PYTHONUNBUFFERED': '1',\n",
       " 'PYTHON_FROZEN_MODULES': 'on',\n",
       " 'REGIONCODE': 'LA',\n",
       " 'SESSIONNAME': 'Console',\n",
       " 'SYSTEMDRIVE': 'C:',\n",
       " 'SYSTEMROOT': 'C:\\\\WINDOWS',\n",
       " 'TEMP': 'C:\\\\Users\\\\JUANME~1\\\\AppData\\\\Local\\\\Temp',\n",
       " 'TEMP_DIR': 'D:\\\\data\\\\encuesta_seguridad_ai',\n",
       " 'TMP': 'C:\\\\Users\\\\JUANME~1\\\\AppData\\\\Local\\\\Temp',\n",
       " 'USERDNSDOMAIN': 'SETIAD.COM.CO',\n",
       " 'USERDOMAIN': 'SETIAD',\n",
       " 'USERDOMAIN_ROAMINGPROFILE': 'SETIAD',\n",
       " 'USERNAME': 'juanmedina',\n",
       " 'USERPROFILE': 'C:\\\\Users\\\\juanmedina',\n",
       " 'VECTORDB_DBA': 'D:\\\\code\\\\python\\\\chroma\\\\dba_asistant',\n",
       " 'VIRTUAL_ENV': 'C:\\\\code\\\\python\\\\SETI\\\\GenAI\\\\.venv',\n",
       " 'VIRTUAL_ENV_PROMPT': '(.venv) ',\n",
       " 'VS140COMNTOOLS': 'C:\\\\Program Files (x86)\\\\Microsoft Visual Studio 14.0\\\\Common7\\\\Tools\\\\',\n",
       " 'VSCODE_AMD_ENTRYPOINT': 'vs/workbench/api/node/extensionHostProcess',\n",
       " 'VSCODE_CODE_CACHE_PATH': 'C:\\\\Users\\\\juanmedina\\\\AppData\\\\Roaming\\\\Code\\\\CachedData\\\\f1e16e1e6214d7c44d078b1f0607b2388f29d729',\n",
       " 'VSCODE_CRASH_REPORTER_PROCESS_TYPE': 'extensionHost',\n",
       " 'VSCODE_CWD': 'C:\\\\code\\\\python\\\\SETI\\\\GenAI',\n",
       " 'VSCODE_HANDLES_UNCAUGHT_ERRORS': 'true',\n",
       " 'VSCODE_IPC_HOOK': '\\\\\\\\.\\\\pipe\\\\9a9c5a0e-1.91.1-main-sock',\n",
       " 'VSCODE_NLS_CONFIG': '{\"locale\":\"en-us\",\"osLocale\":\"es-co\",\"availableLanguages\":{},\"_languagePackSupport\":true}',\n",
       " 'VSCODE_PID': '13756',\n",
       " 'WINDIR': 'C:\\\\WINDOWS',\n",
       " 'ZES_ENABLE_SYSMAN': '1',\n",
       " '_OLD_VIRTUAL_PATH': 'C:\\\\Program Files\\\\Common Files\\\\Oracle\\\\Java\\\\javapath;C:\\\\WINDOWS\\\\system32;C:\\\\WINDOWS;C:\\\\WINDOWS\\\\System32\\\\Wbem;C:\\\\WINDOWS\\\\System32\\\\WindowsPowerShell\\\\v1.0\\\\;C:\\\\WINDOWS\\\\System32\\\\OpenSSH\\\\;C:\\\\Program Files\\\\Java\\\\jdk-20\\\\bin;C:\\\\Program Files\\\\Git\\\\cmd;C:\\\\Program Files\\\\PowerShell\\\\7\\\\;C:\\\\Program Files\\\\Python312;C:\\\\Users\\\\juanmedina\\\\AppData\\\\Local\\\\Microsoft\\\\WindowsApps;C:\\\\Users\\\\juanmedina\\\\AppData\\\\Local\\\\Programs\\\\Microsoft VS Code\\\\bin;C:\\\\Users\\\\juanmedina\\\\AppData\\\\Local\\\\Programs\\\\Python\\\\Python312;C:\\\\code\\\\poetry;',\n",
       " '_OLD_VIRTUAL_PROMPT': '$P$G',\n",
       " 'PYDEVD_USE_FRAME_EVAL': 'NO',\n",
       " 'TERM': 'xterm-color',\n",
       " 'CLICOLOR': '1',\n",
       " 'FORCE_COLOR': '1',\n",
       " 'CLICOLOR_FORCE': '1',\n",
       " 'PAGER': 'cat',\n",
       " 'GIT_PAGER': 'cat',\n",
       " 'MPLBACKEND': 'module://matplotlib_inline.backend_inline'}"
      ]
     },
     "execution_count": 1,
     "metadata": {},
     "output_type": "execute_result"
    }
   ],
   "source": [
    "%env\n"
   ]
  },
  {
   "cell_type": "markdown",
   "id": "0bd3670a",
   "metadata": {},
   "source": [
    "### List of Tools\n",
    "1. **python_repl -** A Python shell. Use this to execute python commands. Input should be a valid python command. If you expect output it should be printed out.\n",
    "2. **serpapi [Complete] -** A search engine. Useful for when you need to answer questions about current events. Input should be a search query.\n",
    "3. **wolfram-alpha [Complete] -** A wolfram alpha search engine. Useful for when you need to answer questions about Math, Science, Technology, Culture, Society and Everyday Life. Input should be a search query.\n",
    "4. **requests -** A portal to the internet. Use this when you need to get specific content from a site. Input should be a specific url, and the output will be all the text on that page.\n",
    "5. **terminal -** Executes commands in a terminal. Input should be valid commands, and the output will be any output from running that command.\n",
    "6. **pal-math -** A language model that is excellent at solving complex word math problems. Input should be a fully worded hard word math problem.\n",
    "7. **pal-colored-objects -** A language model that is wonderful at reasoning about position and the color attributes of objects. Input should be a fully worded hard reasoning problem. Make sure to include all information about the objects AND the final question you want to answer.\n",
    "8. **llm-math -** Useful for when you need to answer questions about math.\n",
    "9. **open-meteo-api -** Useful for when you want to get weather information from the OpenMeteo API. The input should be a question in natural language that this API can answer.\n",
    "10. **news-api -** Use this when you want to get information about the top headlines of current news stories. The input should be a question in natural language that this API can answer.\n",
    "11. **tmdb-api -** Useful for when you want to get information from The Movie Database. The input should be a question in natural language that this API can answer.\n",
    "12. **google-search -** A wrapper around Google Search. Useful for when you need to answer questions about current events. Input should be a search query.\n"
   ]
  },
  {
   "cell_type": "markdown",
   "id": "83032dcf",
   "metadata": {},
   "source": [
    "### 2. SERP API"
   ]
  },
  {
   "cell_type": "code",
   "execution_count": 60,
   "id": "0c90ba74",
   "metadata": {},
   "outputs": [],
   "source": [
    "from langchain.agents import load_tools\n",
    "\n",
    "# import os\n",
    "# os.environ['OPENAI_API_KEY'] = \"...\"\n",
    "# os.environ['SERPAPI_API_KEY'] = \"...\""
   ]
  },
  {
   "cell_type": "code",
   "execution_count": 61,
   "id": "d0f2fd44",
   "metadata": {},
   "outputs": [],
   "source": [
    "llm = OpenAI(temperature=0)"
   ]
  },
  {
   "cell_type": "code",
   "execution_count": 62,
   "id": "f26a0dd5",
   "metadata": {},
   "outputs": [],
   "source": [
    "tool_names = [\"serpapi\"]\n",
    "tools = load_tools(tool_names)"
   ]
  },
  {
   "cell_type": "code",
   "execution_count": 65,
   "id": "e8a35518",
   "metadata": {},
   "outputs": [],
   "source": [
    "agent = initialize_agent(tools, llm, agent=\"zero-shot-react-description\", verbose=True)"
   ]
  },
  {
   "cell_type": "code",
   "execution_count": 66,
   "id": "829a2d67",
   "metadata": {},
   "outputs": [
    {
     "data": {
      "text/plain": [
       "'LangChain is a platform that provides a standard interface for chains, lots of integrations with other tools, and end-to-end chains for common applications. Data Augmented Reality (DAR) is also supported.'"
      ]
     },
     "execution_count": 66,
     "metadata": {},
     "output_type": "execute_result"
    }
   ],
   "source": [
    "agent.run(\"What is LangChain?\")"
   ]
  },
  {
   "cell_type": "code",
   "execution_count": 67,
   "id": "b4cc45f6",
   "metadata": {},
   "outputs": [
    {
     "data": {
      "text/plain": [
       "'Luke Voiles is the CEO of Pipe.'"
      ]
     },
     "execution_count": 67,
     "metadata": {},
     "output_type": "execute_result"
    }
   ],
   "source": [
    "# Input should be a search query.\n",
    "agent.run(\"who is the ceo of pipe?\")"
   ]
  },
  {
   "cell_type": "markdown",
   "id": "1869cabc",
   "metadata": {},
   "source": [
    "### 3. Wolfram Alpha"
   ]
  },
  {
   "cell_type": "code",
   "execution_count": 68,
   "id": "0fd02098",
   "metadata": {},
   "outputs": [],
   "source": [
    "from langchain.agents import load_tools\n",
    "\n",
    "# import os\n",
    "# pip install wolframalpha\n",
    "# os.environ['OPENAI_API_KEY'] = \"...\"\n",
    "# os.environ['WOLFRAM_ALPHA_APPID'] = \"..\""
   ]
  },
  {
   "cell_type": "code",
   "execution_count": 69,
   "id": "7a96dfdd",
   "metadata": {},
   "outputs": [],
   "source": [
    "llm = OpenAI(temperature=0)"
   ]
  },
  {
   "cell_type": "code",
   "execution_count": 70,
   "id": "1ba4200b",
   "metadata": {},
   "outputs": [],
   "source": [
    "tool_names = [\"wolfram-alpha\"]\n",
    "tools = load_tools(tool_names)"
   ]
  },
  {
   "cell_type": "code",
   "execution_count": 74,
   "id": "4716e3a8",
   "metadata": {},
   "outputs": [],
   "source": [
    "agent = initialize_agent(tools, llm, agent=\"zero-shot-react-description\", verbose=True)"
   ]
  },
  {
   "cell_type": "code",
   "execution_count": 75,
   "id": "89e0d255",
   "metadata": {},
   "outputs": [
    {
     "data": {
      "text/plain": [
       "'The asthenosphere is the lower layer of the crust.'"
      ]
     },
     "execution_count": 75,
     "metadata": {},
     "output_type": "execute_result"
    }
   ],
   "source": [
    "# Input should be a search query.\n",
    "\n",
    "agent.run(\"What is the asthenosphere?\")"
   ]
  },
  {
   "cell_type": "code",
   "execution_count": null,
   "id": "86c98c29",
   "metadata": {},
   "outputs": [],
   "source": []
  }
 ],
 "metadata": {
  "kernelspec": {
   "display_name": "Python 3 (ipykernel)",
   "language": "python",
   "name": "python3"
  },
  "language_info": {
   "codemirror_mode": {
    "name": "ipython",
    "version": 3
   },
   "file_extension": ".py",
   "mimetype": "text/x-python",
   "name": "python",
   "nbconvert_exporter": "python",
   "pygments_lexer": "ipython3",
   "version": "3.12.0"
  }
 },
 "nbformat": 4,
 "nbformat_minor": 5
}
