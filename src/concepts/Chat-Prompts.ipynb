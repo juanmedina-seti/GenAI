{
 "cells": [
  {
   "cell_type": "markdown",
   "id": "2ed4da4d",
   "metadata": {},
   "source": [
    "## Quickstart Guide\n",
    "https://langchain.readthedocs.io/en/latest/getting_started/getting_started.html"
   ]
  },
  {
   "cell_type": "code",
   "execution_count": null,
   "id": "3b556fc2",
   "metadata": {
    "scrolled": true
   },
   "outputs": [],
   "source": [
    "%env"
   ]
  },
  {
   "cell_type": "code",
   "execution_count": 5,
   "id": "a05530b1",
   "metadata": {},
   "outputs": [
    {
     "data": {
      "text/plain": [
       "True"
      ]
     },
     "execution_count": 5,
     "metadata": {},
     "output_type": "execute_result"
    }
   ],
   "source": [
    "import tqdm as notebook_tqdm\n",
    "from dotenv import load_dotenv\n",
    "\n",
    "# Load the environment variables from .env\n",
    "load_dotenv()"
   ]
  },
  {
   "cell_type": "code",
   "execution_count": 2,
   "id": "bb07d3b3-889e-4f9f-90c8-01bc7c907ec8",
   "metadata": {},
   "outputs": [
    {
     "data": {
      "text/plain": [
       "{'ALLUSERSPROFILE': 'C:\\\\ProgramData',\n",
       " 'APPDATA': 'C:\\\\Users\\\\juanm\\\\AppData\\\\Roaming',\n",
       " 'APPLICATION_INSIGHTS_NO_DIAGNOSTIC_CHANNEL': '1',\n",
       " 'CHROME_CRASHPAD_PIPE_NAME': '\\\\\\\\.\\\\pipe\\\\crashpad_24336_ODGGCMYIYYATHMML',\n",
       " 'CLOUDSDK_METRICS_ENVIRONMENT': 'cloudcode.vscode',\n",
       " 'CLOUDSDK_METRICS_ENVIRONMENT_VERSION': '2.15.0',\n",
       " 'COMMONPROGRAMFILES': 'C:\\\\Program Files\\\\Common Files',\n",
       " 'COMMONPROGRAMFILES(X86)': 'C:\\\\Program Files (x86)\\\\Common Files',\n",
       " 'COMMONPROGRAMW6432': 'C:\\\\Program Files\\\\Common Files',\n",
       " 'COMPUTERNAME': 'DESKTOP-RA4D1A7',\n",
       " 'COMSPEC': 'C:\\\\WINDOWS\\\\system32\\\\cmd.exe',\n",
       " 'DRIVERDATA': 'C:\\\\Windows\\\\System32\\\\Drivers\\\\DriverData',\n",
       " 'EFC_9444': '1',\n",
       " 'ELECTRON_NO_ATTACH_CONSOLE': '1',\n",
       " 'ELECTRON_RUN_AS_NODE': '1',\n",
       " 'GOOGLE_API_KEY': '<hidden>',\n",
       " 'HADOOP_HOME': 'C:\\\\apps\\\\opts\\\\spark-3.0.3-bin-hadoop2.7',\n",
       " 'HOME': 'C:\\\\Users\\\\juanm',\n",
       " 'HOMEDRIVE': 'C:',\n",
       " 'HOMEPATH': '\\\\Users\\\\juanm',\n",
       " 'JPY_INTERRUPT_EVENT': '2804',\n",
       " 'LOCALAPPDATA': 'C:\\\\Users\\\\juanm\\\\AppData\\\\Local',\n",
       " 'LOGONSERVER': '\\\\\\\\DESKTOP-RA4D1A7',\n",
       " 'NEXT_DEPLOYMENT_ID': '',\n",
       " 'NODE_ENV': 'production',\n",
       " 'NUMBER_OF_PROCESSORS': '8',\n",
       " 'OLLAMA_MODELS': 'D:\\\\OLLAMA_MODELS',\n",
       " 'ONEDRIVE': 'D:\\\\juanm\\\\OneDrive',\n",
       " 'ONEDRIVECONSUMER': 'D:\\\\juanm\\\\OneDrive',\n",
       " 'OPENAI_API_KEY': '<hidden>',\n",
       " 'ORIGINAL_XDG_CURRENT_DESKTOP': 'undefined',\n",
       " 'OS': 'Windows_NT',\n",
       " 'PATH': 'd:\\\\code\\\\python\\\\SETI\\\\GenAI\\\\.venv\\\\Scripts;D:\\\\code\\\\python\\\\SETI\\\\GenAI\\\\.venv\\\\Scripts;C:\\\\Users\\\\juanm\\\\AppData\\\\Local\\\\cloud-code\\\\installer\\\\google-cloud-sdk\\\\bin;C:\\\\Program Files\\\\Common Files\\\\Oracle\\\\Java\\\\javapath;C:\\\\Program Files (x86)\\\\Common Files\\\\Oracle\\\\Java\\\\javapath;C:\\\\WINDOWS\\\\system32;C:\\\\WINDOWS;C:\\\\WINDOWS\\\\System32\\\\Wbem;C:\\\\WINDOWS\\\\System32\\\\WindowsPowerShell\\\\v1.0\\\\;C:\\\\WINDOWS\\\\System32\\\\OpenSSH\\\\;C:\\\\apps\\\\opts\\\\spark-3.0.3-bin-hadoop2.7\\\\bin;C:\\\\apps\\\\opts\\\\spark-3.0.3-bin-hadoop2.7\\\\bin;C:\\\\Program Files\\\\Git\\\\cmd;C:\\\\Program Files\\\\Git\\\\bin;C:\\\\Program Files\\\\dotnet\\\\;C:\\\\Program Files\\\\Docker\\\\Docker\\\\resources\\\\bin;C:\\\\Program Files\\\\Microsoft SQL Server\\\\Client SDK\\\\ODBC\\\\170\\\\Tools\\\\Binn\\\\;C:\\\\Program Files\\\\PowerShell\\\\7\\\\;C:\\\\Users\\\\juanm\\\\AppData\\\\Local\\\\Programs\\\\Python\\\\Python312\\\\Scripts\\\\;C:\\\\Users\\\\juanm\\\\AppData\\\\Local\\\\Programs\\\\Python\\\\Python312\\\\;C:\\\\Users\\\\juanm\\\\AppData\\\\Local\\\\Programs\\\\Python\\\\Launcher\\\\;C:\\\\Users\\\\juanm\\\\bin;C:\\\\Users\\\\juanm\\\\AppData\\\\Local\\\\Microsoft\\\\WindowsApps;C:\\\\Users\\\\juanm\\\\AppData\\\\Local\\\\Programs\\\\Microsoft VS Code\\\\bin;C:\\\\Users\\\\juanm\\\\AppData\\\\Local\\\\Packages\\\\PythonSoftwareFoundation.Python.3.9_qbz5n2kfra8p0\\\\LocalCache\\\\local-packages\\\\Python39\\\\Scripts;C:\\\\Users\\\\juanm\\\\AppData\\\\Local\\\\Programs\\\\Hyper\\\\resources\\\\bin;C:\\\\Users\\\\juanm\\\\.deno\\\\bin;C:\\\\Program Files\\\\Azure Data Studio\\\\bin;C:\\\\Panda3D-1.10.13-x64\\\\python;C:\\\\Panda3D-1.10.13-x64\\\\python\\\\Scripts;C:\\\\Panda3D-1.10.13-x64\\\\bin;C:\\\\Users\\\\juanm\\\\AppData\\\\Local\\\\Microsoft\\\\WindowsApps;C:\\\\Users\\\\juanm\\\\.dotnet\\\\tools;C:\\\\Users\\\\juanm\\\\AppData\\\\Local\\\\Programs\\\\Ollama;D:\\\\code\\\\poetry\\\\Scripts;C:\\\\Users\\\\juanm\\\\AppData\\\\Local\\\\GitHubDesktop\\\\bin;C:\\\\Users\\\\juanm\\\\AppData\\\\Local\\\\Google\\\\Cloud SDK\\\\google-cloud-sdk\\\\bin;C:\\\\Program Files (x86)\\\\Google\\\\Cloud SDK\\\\google-cloud-sdk\\\\bin;C:\\\\Program Files\\\\Google\\\\Cloud SDK\\\\google-cloud-sdk\\\\bin',\n",
       " 'PATHEXT': '.COM;.EXE;.BAT;.CMD;.VBS;.VBE;.JS;.JSE;.WSF;.WSH;.MSC',\n",
       " 'PORT': '54112',\n",
       " 'POWERSHELL_DISTRIBUTION_CHANNEL': 'MSI:Windows 10 Pro',\n",
       " 'PROCESSOR_ARCHITECTURE': 'AMD64',\n",
       " 'PROCESSOR_IDENTIFIER': 'AMD64 Family 23 Model 24 Stepping 1, AuthenticAMD',\n",
       " 'PROCESSOR_LEVEL': '23',\n",
       " 'PROCESSOR_REVISION': '1801',\n",
       " 'PROGRAMDATA': 'C:\\\\ProgramData',\n",
       " 'PROGRAMFILES': 'C:\\\\Program Files',\n",
       " 'PROGRAMFILES(X86)': 'C:\\\\Program Files (x86)',\n",
       " 'PROGRAMW6432': 'C:\\\\Program Files',\n",
       " 'PROMPT': '(.venv) $P$G',\n",
       " 'PSMODULEPATH': 'C:\\\\Users\\\\juanm\\\\Documents\\\\WindowsPowerShell\\\\Modules;',\n",
       " 'PUBLIC': 'C:\\\\Users\\\\Public',\n",
       " 'PYDEVD_IPYTHON_COMPATIBLE_DEBUGGING': '1',\n",
       " 'PYSPARK_DRIVER_PYTHON': 'jupyter',\n",
       " 'PYSPARK_DRIVER_PYTHON_OPTS': 'notebook',\n",
       " 'PYTHONIOENCODING': 'utf-8',\n",
       " 'PYTHONUNBUFFERED': '1',\n",
       " 'PYTHON_FROZEN_MODULES': 'on',\n",
       " 'SESSIONNAME': 'Console',\n",
       " 'SPARK_HOME': 'C:\\\\apps\\\\opts\\\\spark-3.0.3-bin-hadoop2.7',\n",
       " 'SPARK_LOCAL_HOSTNAME': 'localhost',\n",
       " 'SYSTEMDRIVE': 'C:',\n",
       " 'SYSTEMROOT': 'C:\\\\WINDOWS',\n",
       " 'TEMP': 'C:\\\\Users\\\\juanm\\\\AppData\\\\Local\\\\Temp',\n",
       " 'TMP': 'C:\\\\Users\\\\juanm\\\\AppData\\\\Local\\\\Temp',\n",
       " 'USERDOMAIN': 'DESKTOP-RA4D1A7',\n",
       " 'USERDOMAIN_ROAMINGPROFILE': 'DESKTOP-RA4D1A7',\n",
       " 'USERNAME': 'juanm',\n",
       " 'USERPROFILE': 'C:\\\\Users\\\\juanm',\n",
       " 'VIRTUAL_ENV': 'D:\\\\code\\\\python\\\\SETI\\\\GenAI\\\\.venv',\n",
       " 'VIRTUAL_ENV_PROMPT': '(.venv) ',\n",
       " 'VSCODE_AMD_ENTRYPOINT': 'vs/workbench/api/node/extensionHostProcess',\n",
       " 'VSCODE_CLI': '1',\n",
       " 'VSCODE_CODE_CACHE_PATH': 'C:\\\\Users\\\\juanm\\\\AppData\\\\Roaming\\\\Code\\\\CachedData\\\\f1e16e1e6214d7c44d078b1f0607b2388f29d729',\n",
       " 'VSCODE_CRASH_REPORTER_PROCESS_TYPE': 'extensionHost',\n",
       " 'VSCODE_CWD': 'D:\\\\code\\\\python\\\\SETI\\\\GenAI',\n",
       " 'VSCODE_HANDLES_UNCAUGHT_ERRORS': 'true',\n",
       " 'VSCODE_IPC_HOOK': '\\\\\\\\.\\\\pipe\\\\aa7c7b73-1.91.1-main-sock',\n",
       " 'VSCODE_L10N_BUNDLE_LOCATION': '',\n",
       " 'VSCODE_NLS_CONFIG': '{\"locale\":\"en-us\",\"osLocale\":\"es-co\",\"availableLanguages\":{},\"_languagePackSupport\":true}',\n",
       " 'VSCODE_PID': '24336',\n",
       " 'WINDIR': 'C:\\\\WINDOWS',\n",
       " '_OLD_VIRTUAL_PATH': 'C:\\\\Users\\\\juanm\\\\AppData\\\\Local\\\\cloud-code\\\\installer\\\\google-cloud-sdk\\\\bin;C:\\\\Program Files\\\\Common Files\\\\Oracle\\\\Java\\\\javapath;C:\\\\Program Files (x86)\\\\Common Files\\\\Oracle\\\\Java\\\\javapath;C:\\\\WINDOWS\\\\system32;C:\\\\WINDOWS;C:\\\\WINDOWS\\\\System32\\\\Wbem;C:\\\\WINDOWS\\\\System32\\\\WindowsPowerShell\\\\v1.0\\\\;C:\\\\WINDOWS\\\\System32\\\\OpenSSH\\\\;C:\\\\apps\\\\opts\\\\spark-3.0.3-bin-hadoop2.7\\\\bin;C:\\\\apps\\\\opts\\\\spark-3.0.3-bin-hadoop2.7\\\\bin;C:\\\\Program Files\\\\Git\\\\cmd;C:\\\\Program Files\\\\Git\\\\bin;C:\\\\Program Files\\\\dotnet\\\\;C:\\\\Program Files\\\\Docker\\\\Docker\\\\resources\\\\bin;C:\\\\Program Files\\\\Microsoft SQL Server\\\\Client SDK\\\\ODBC\\\\170\\\\Tools\\\\Binn\\\\;C:\\\\Program Files\\\\PowerShell\\\\7\\\\;C:\\\\Users\\\\juanm\\\\AppData\\\\Local\\\\Programs\\\\Python\\\\Python312\\\\Scripts\\\\;C:\\\\Users\\\\juanm\\\\AppData\\\\Local\\\\Programs\\\\Python\\\\Python312\\\\;C:\\\\Users\\\\juanm\\\\AppData\\\\Local\\\\Programs\\\\Python\\\\Launcher\\\\;C:\\\\Users\\\\juanm\\\\bin;C:\\\\Users\\\\juanm\\\\AppData\\\\Local\\\\Microsoft\\\\WindowsApps;C:\\\\Users\\\\juanm\\\\AppData\\\\Local\\\\Programs\\\\Microsoft VS Code\\\\bin;C:\\\\Users\\\\juanm\\\\AppData\\\\Local\\\\Packages\\\\PythonSoftwareFoundation.Python.3.9_qbz5n2kfra8p0\\\\LocalCache\\\\local-packages\\\\Python39\\\\Scripts;C:\\\\Users\\\\juanm\\\\AppData\\\\Local\\\\Programs\\\\Hyper\\\\resources\\\\bin;C:\\\\Users\\\\juanm\\\\.deno\\\\bin;C:\\\\Program Files\\\\Azure Data Studio\\\\bin;C:\\\\Panda3D-1.10.13-x64\\\\python;C:\\\\Panda3D-1.10.13-x64\\\\python\\\\Scripts;C:\\\\Panda3D-1.10.13-x64\\\\bin;C:\\\\Users\\\\juanm\\\\AppData\\\\Local\\\\Microsoft\\\\WindowsApps;C:\\\\Users\\\\juanm\\\\.dotnet\\\\tools;C:\\\\Users\\\\juanm\\\\AppData\\\\Local\\\\Programs\\\\Ollama;D:\\\\code\\\\poetry\\\\Scripts;C:\\\\Users\\\\juanm\\\\AppData\\\\Local\\\\GitHubDesktop\\\\bin;C:\\\\Users\\\\juanm\\\\AppData\\\\Local\\\\Google\\\\Cloud SDK\\\\google-cloud-sdk\\\\bin;C:\\\\Program Files (x86)\\\\Google\\\\Cloud SDK\\\\google-cloud-sdk\\\\bin;C:\\\\Program Files\\\\Google\\\\Cloud SDK\\\\google-cloud-sdk\\\\bin',\n",
       " '_OLD_VIRTUAL_PROMPT': '$P$G',\n",
       " '__NEXT_OPTIMIZE_FONTS': 'true',\n",
       " '__NEXT_PRIVATE_ORIGIN': 'http://localhost:54112',\n",
       " '__NEXT_PRIVATE_RUNTIME_TYPE': '',\n",
       " '__NEXT_PRIVATE_STANDALONE_CONFIG': '{\"env\":{},\"webpack\":null,\"eslint\":{\"ignoreDuringBuilds\":false},\"typescript\":{\"ignoreBuildErrors\":false,\"tsconfigPath\":\"tsconfig.json\"},\"distDir\":\"./.next\",\"cleanDistDir\":true,\"assetPrefix\":\"\",\"configOrigin\":\"next.config.js\",\"useFileSystemPublicRoutes\":true,\"generateEtags\":true,\"pageExtensions\":[\"tsx\",\"ts\",\"jsx\",\"js\"],\"poweredByHeader\":true,\"compress\":true,\"analyticsId\":\"\",\"images\":{\"deviceSizes\":[640,750,828,1080,1200,1920,2048,3840],\"imageSizes\":[16,32,48,64,96,128,256,384],\"path\":\"/_next/image\",\"loader\":\"default\",\"loaderFile\":\"\",\"domains\":[],\"disableStaticImages\":false,\"minimumCacheTTL\":60,\"formats\":[\"image/webp\"],\"dangerouslyAllowSVG\":false,\"contentSecurityPolicy\":\"script-src \\'none\\'; frame-src \\'none\\'; sandbox;\",\"contentDispositionType\":\"inline\",\"remotePatterns\":[],\"unoptimized\":false},\"devIndicators\":{\"buildActivity\":true,\"buildActivityPosition\":\"bottom-right\"},\"onDemandEntries\":{\"maxInactiveAge\":60000,\"pagesBufferLength\":5},\"amp\":{\"canonicalBase\":\"\"},\"basePath\":\"\",\"sassOptions\":{},\"trailingSlash\":false,\"i18n\":null,\"productionBrowserSourceMaps\":false,\"optimizeFonts\":true,\"excludeDefaultMomentLocales\":true,\"serverRuntimeConfig\":{},\"publicRuntimeConfig\":{},\"reactProductionProfiling\":false,\"reactStrictMode\":null,\"httpAgentOptions\":{\"keepAlive\":true},\"outputFileTracing\":true,\"staticPageGenerationTimeout\":60,\"swcMinify\":true,\"output\":\"standalone\",\"modularizeImports\":{\"@mui/icons-material\":{\"transform\":\"@mui/icons-material/{{member}}\"},\"date-fns\":{\"transform\":\"date-fns/{{member}}\"},\"lodash\":{\"transform\":\"lodash/{{member}}\"},\"lodash-es\":{\"transform\":\"lodash-es/{{member}}\"},\"ramda\":{\"transform\":\"ramda/es/{{member}}\"},\"react-bootstrap\":{\"transform\":{\"useAccordionButton\":\"modularize-import-loader?name=useAccordionButton&from=named&as=default!react-bootstrap/AccordionButton\",\"*\":\"react-bootstrap/{{member}}\"}},\"antd\":{\"transform\":\"antd/lib/{{kebabCase member}}\"},\"ahooks\":{\"transform\":{\"createUpdateEffect\":\"modularize-import-loader?name=createUpdateEffect&from=named&as=default!ahooks/es/createUpdateEffect\",\"*\":\"ahooks/es/{{member}}\"}},\"@ant-design/icons\":{\"transform\":{\"IconProvider\":\"modularize-import-loader?name=IconProvider&from=named&as=default!@ant-design/icons\",\"createFromIconfontCN\":\"@ant-design/icons/es/components/IconFont\",\"getTwoToneColor\":\"modularize-import-loader?name=getTwoToneColor&from=named&as=default!@ant-design/icons/es/components/twoTonePrimaryColor\",\"setTwoToneColor\":\"modularize-import-loader?name=setTwoToneColor&from=named&as=default!@ant-design/icons/es/components/twoTonePrimaryColor\",\"*\":\"@ant-design/icons/lib/icons/{{member}}\"}},\"next/server\":{\"transform\":\"next/dist/server/web/exports/{{ kebabCase member }}\"}},\"experimental\":{\"serverMinification\":true,\"serverSourceMaps\":false,\"caseSensitiveRoutes\":false,\"useDeploymentId\":false,\"useDeploymentIdServerActions\":false,\"clientRouterFilter\":true,\"clientRouterFilterRedirects\":false,\"fetchCacheKeyPrefix\":\"\",\"middlewarePrefetch\":\"flexible\",\"optimisticClientCache\":true,\"manualClientBasePath\":false,\"cpus\":9,\"memoryBasedWorkersCount\":false,\"isrFlushToDisk\":true,\"workerThreads\":false,\"optimizeCss\":false,\"nextScriptWorkers\":false,\"scrollRestoration\":false,\"externalDir\":false,\"disableOptimizedLoading\":false,\"gzipSize\":true,\"craCompat\":false,\"esmExternals\":true,\"isrMemoryCacheSize\":52428800,\"fullySpecified\":false,\"outputFileTracingRoot\":\"/Users/maol/WebstormProjects/Trabajo/codegpt-nextjs\",\"swcTraceProfiling\":false,\"forceSwcTransforms\":false,\"largePageDataBytes\":128000,\"adjustFontFallbacks\":false,\"adjustFontFallbacksWithSizeAdjust\":false,\"typedRoutes\":false,\"instrumentationHook\":false,\"bundlePagesExternals\":false,\"optimizePackageImports\":[\"lucide-react\",\"@headlessui/react\",\"@headlessui-float/react\",\"@heroicons/react/20/solid\",\"@heroicons/react/24/solid\",\"@heroicons/react/24/outline\",\"@visx/visx\",\"@tremor/react\",\"rxjs\",\"@mui/material\",\"@mui/icons-material\",\"recharts\",\"react-use\",\"@material-ui/core\",\"@material-ui/icons\",\"@tabler/icons-react\",\"mui-core\",\"react-icons/ai\",\"react-icons/bi\",\"react-icons/bs\",\"react-icons/cg\",\"react-icons/ci\",\"react-icons/di\",\"react-icons/fa\",\"react-icons/fa6\",\"react-icons/fc\",\"react-icons/fi\",\"react-icons/gi\",\"react-icons/go\",\"react-icons/gr\",\"react-icons/hi\",\"react-icons/hi2\",\"react-icons/im\",\"react-icons/io\",\"react-icons/io5\",\"react-icons/lia\",\"react-icons/lib\",\"react-icons/lu\",\"react-icons/md\",\"react-icons/pi\",\"react-icons/ri\",\"react-icons/rx\",\"react-icons/si\",\"react-icons/sl\",\"react-icons/tb\",\"react-icons/tfi\",\"react-icons/ti\",\"react-icons/vsc\",\"react-icons/wi\"],\"trustHostHeader\":false,\"isExperimentalCompile\":false},\"configFileName\":\"next.config.js\"}',\n",
       " 'PYDEVD_USE_FRAME_EVAL': 'NO',\n",
       " 'TERM': 'xterm-color',\n",
       " 'CLICOLOR': '1',\n",
       " 'FORCE_COLOR': '1',\n",
       " 'CLICOLOR_FORCE': '1',\n",
       " 'PAGER': 'cat',\n",
       " 'GIT_PAGER': 'cat',\n",
       " 'MPLBACKEND': 'module://matplotlib_inline.backend_inline'}"
      ]
     },
     "execution_count": 2,
     "metadata": {},
     "output_type": "execute_result"
    }
   ],
   "source": [
    "%env"
   ]
  },
  {
   "cell_type": "markdown",
   "id": "0126a6a1",
   "metadata": {},
   "source": [
    "# Building A Language Model Application\n",
    "### LLMS: Get predictions from a language model"
   ]
  },
  {
   "cell_type": "code",
   "execution_count": 6,
   "id": "4bef95a9",
   "metadata": {},
   "outputs": [],
   "source": [
    "from langchain_google_genai import ChatGoogleGenerativeAI\n",
    "chat_google = ChatGoogleGenerativeAI(temperature=0.9, model='gemini-pro')\n",
    "\n",
    "from langchain_groq import ChatGroq\n",
    "chat_mixtral = ChatGroq(temperature=0.7,  model_name=\"mixtral-8x7b-32768\")\n",
    "\n",
    "\n"
   ]
  },
  {
   "cell_type": "code",
   "execution_count": 8,
   "id": "9ebe6d15",
   "metadata": {},
   "outputs": [
    {
     "data": {
      "text/plain": [
       "AIMessage(content=\"1. Bologna, Italy: Known as the undisputed pasta capital of Italy, Bologna boasts iconic pasta dishes like tagliatelle al ragù, tortellini in brodo, and lasagne verdi.\\n2. Rome, Italy: A culinary melting pot, Rome offers a wide range of pasta options, from classic carbonara and amatriciana to the seafood-rich spaghetti alle vongole.\\n3. Naples, Italy: The birthplace of pizza, Naples also excels at pasta making. Try the local specialties like spaghetti alle vongole veraci, paccheri al ragù, and ziti alla genovese.\\n4. Venice, Italy: While seafood is prominent in Venetian cuisine, pasta holds its own. Look for dishes like risotto nero (black ink risotto) and bigoli in salsa (thick spaghetti with meat sauce).\\n5. Parma, Italy: Famous for its prosciutto and Parmigiano-Reggiano cheese, Parma's pasta scene is not to be missed. Enjoy tortellini d'erbetta (ravioli filled with herbs) and tagliatelle al tartufo (tagliatelle with truffle sauce).\", response_metadata={'prompt_feedback': {'block_reason': 0, 'safety_ratings': []}, 'finish_reason': 'STOP', 'safety_ratings': [{'category': 'HARM_CATEGORY_SEXUALLY_EXPLICIT', 'probability': 'NEGLIGIBLE', 'blocked': False}, {'category': 'HARM_CATEGORY_HATE_SPEECH', 'probability': 'NEGLIGIBLE', 'blocked': False}, {'category': 'HARM_CATEGORY_HARASSMENT', 'probability': 'NEGLIGIBLE', 'blocked': False}, {'category': 'HARM_CATEGORY_DANGEROUS_CONTENT', 'probability': 'NEGLIGIBLE', 'blocked': False}]}, id='run-84cf5ed0-d1f4-4fc0-b9e5-fced89074457-0', usage_metadata={'input_tokens': 15, 'output_tokens': 225, 'total_tokens': 240})"
      ]
     },
     "execution_count": 8,
     "metadata": {},
     "output_type": "execute_result"
    }
   ],
   "source": [
    "text = \"What are 5 vacation destinations for someone who likes to eat pasta?\"\n",
    "chat_google.invoke(text)\n"
   ]
  },
  {
   "cell_type": "code",
   "execution_count": 10,
   "id": "ab8f3056",
   "metadata": {},
   "outputs": [
    {
     "name": "stdout",
     "output_type": "stream",
     "text": [
      "1. Italy: As the birthplace of pasta, Italy is an obvious choice for any pasta lover. From the classic spaghetti carbonara in Rome to the delicious lasagna in Bologna, Italy offers an endless variety of pasta dishes to try. Don't forget to visit the island of Sicily, where you can find unique pasta shapes like busiate and pasta alla norma.\n",
      "\n",
      "2. New York City, USA: New York City is home to some of the best Italian-American cuisine in the world. Whether you're looking for a classic red sauce joint or a trendy pasta bar, you'll find it in NYC. Don't miss out on trying some of the city's famous pasta dishes like spaghetti and meatballs, baked ziti, and linguine with clams.\n",
      "\n",
      "3. Chicago, USA: Chicago is another great destination for pasta lovers. The city is known for its deep-dish pizza, but it also has a thriving Italian-American food scene. Try some of Chicago's signature pasta dishes like chicken Vesuvio, pasta carbonara with Italian sausage, and stuffed shells.\n",
      "\n",
      "4. Buenos Aires, Argentina: Buenos Aires might not be the first place you think of when it comes to pasta, but the city has a large Italian immigrant population, which means plenty of delicious pasta options. Try some of Buenos Aires' unique pasta dishes like sorrentinos (stuffed pasta pockets), cannelloni with bechamel sauce, and fettuccine with beef and mushrooms.\n",
      "\n",
      "5. Tokyo, Japan: Tokyo might not be known for its pasta, but the city has a surprising number of Italian restaurants. Some of Tokyo's top Italian chefs have even been awarded Michelin stars. Try some of the city's unique pasta dishes like mentaiko (spicy cod roe) pasta, uni (sea urchin) pasta, and carbonara made with fresh Japanese noodles.\n"
     ]
    }
   ],
   "source": [
    "response = chat_mixtral.invoke(text)\n",
    "print(response.content)"
   ]
  },
  {
   "cell_type": "markdown",
   "id": "7657e1e9",
   "metadata": {},
   "source": [
    "### Prompt Templates: Manage prompts for LLMs"
   ]
  },
  {
   "cell_type": "code",
   "execution_count": 11,
   "id": "168f2277",
   "metadata": {},
   "outputs": [],
   "source": [
    "from langchain.prompts import PromptTemplate"
   ]
  },
  {
   "cell_type": "code",
   "execution_count": 12,
   "id": "9d6d3761",
   "metadata": {},
   "outputs": [],
   "source": [
    "prompt = PromptTemplate(\n",
    "    input_variables=[\"food\"],\n",
    "    template=\"What are 5 vacation destinations for someone who likes to eat {food}? \",\n",
    ")"
   ]
  },
  {
   "cell_type": "code",
   "execution_count": 16,
   "id": "160f8a0f",
   "metadata": {},
   "outputs": [
    {
     "data": {
      "text/plain": [
       "StringPromptValue(text='What are 5 vacation destinations for someone who likes to eat pizza? ')"
      ]
     },
     "execution_count": 16,
     "metadata": {},
     "output_type": "execute_result"
    }
   ],
   "source": [
    "prompt.invoke({\"food\":\"pizza\"})"
   ]
  },
  {
   "cell_type": "code",
   "execution_count": 19,
   "id": "4309f2a0",
   "metadata": {},
   "outputs": [
    {
     "data": {
      "text/plain": [
       "\"1. **Napa Valley, California:** Renowned for its world-class wineries and lush vineyards, Napa Valley also boasts a plethora of fruit orchards and farms. Visitors can indulge in fruit-themed experiences, such as berry picking, apple picking, and wine pairing dinners featuring seasonal fruits.\\n\\n2. **Piedmont, Italy:** This northwestern Italian region is home to a rich culinary tradition centered around wine and fruits. Tourists can explore the rolling hills of Langhe, known for its Barolo wines and seasonal produce like truffles, hazelnuts, and grapes.\\n\\n3. **Loire Valley, France:** Famous for its stunning chateaux and vineyards, the Loire Valley offers a haven for fruit lovers. The region is renowned for its apples, pears, and strawberries, which are incorporated into local pastries, desserts, and wines.\\n\\n4. **Malaga, Spain:** Nestled on the sunny Costa del Sol, Malaga is a fruit and wine paradise. Visitors can stroll through tropical orchards filled with mangoes, avocados, and papayas, while sampling local wines like the sweet Malaga dessert wine.\\n\\n5. **Mendoza, Argentina:** Located in the foothills of the Andes, Mendoza is Argentina's premier wine-growing region. In addition to its renowned Malbec wines, Mendoza offers a variety of fruits, including grapes, peaches, and pears. Visitors can take cooking classes, visit fruit farms, and enjoy wine tastings paired with local produce.\""
      ]
     },
     "execution_count": 19,
     "metadata": {},
     "output_type": "execute_result"
    }
   ],
   "source": [
    "#LCEL\n",
    "chain = prompt|chat_google\n",
    "response = chain.invoke({\"food\":\"fruits\"})\n",
    "response.content"
   ]
  },
  {
   "cell_type": "code",
   "execution_count": 38,
   "id": "40284e22",
   "metadata": {},
   "outputs": [
    {
     "name": "stdout",
     "output_type": "stream",
     "text": [
      "1. Shake Shack (Nueva York, Estados Unidos)\n",
      "2. In-N-Out Burger (California, Estados Unidos)\n",
      "3. Five Guys Burgers & Fries (Estados Unidos y otros países)\n",
      "4. Burger & Lobster (Londres, Inglaterra)\n",
      "5. Burgermeister (Berlín, Alemania)\n",
      "6. Goiko Grill (Madrid, España)\n",
      "7. Burger King (en todo el mundo)\n",
      "8. McDonald's (en todo el mundo)\n",
      "9. White Castle (Estados Unidos)\n",
      "10. Smashed Burger (Denver, Colorado, Estados Unidos)\n"
     ]
    }
   ],
   "source": [
    "from langchain_core.output_parsers.string import StrOutputParser\n",
    "output_parser = StrOutputParser()\n",
    "promt30 = PromptTemplate.from_template(\"Dame {n} sitios para visitar en el mundo en los que pueda disfrutar {comida}\")\n",
    "chain2 =  promt30|chat_google |output_parser\n",
    "\n",
    "print(chain2.invoke({\"comida\":\"hamburger\",\"n\":10}))\n",
    "\n",
    "    "
   ]
  },
  {
   "cell_type": "code",
   "execution_count": 42,
   "id": "b50dc596",
   "metadata": {},
   "outputs": [
    {
     "name": "stdout",
     "output_type": "stream",
     "text": [
      "**10 sitios para probar deliciosos noodles de todo el mundo:**\n",
      "\n",
      "1.| **Tokio, Japón:** Sumérgete en el mundo de los ramen en restaurantes icónicos como Ichiran y Afuri.\n",
      "2. **Hong Kong|, China:** Explora los concurridos puestos de comida y deleitate con los fideos secos de wonton y los fideos en sopa de bolas de pescado.\n",
      "3. **Seúl, Corea del Sur:** Prueba los famosos tteokbokki (fideos de arroz picantes) y los bibim gu|ksu (fideos fríos mezclados).\n",
      "4. **Bangkok, Tailandia:** Disfruta de los fideos pad thai, los khao soi (fideos al curry) y los fideos borrachos.\n",
      "5. **Roma, Italia:** Saborea los auténticos spaghetti alla carbonara y los fettuccine Alfredo.\n",
      "6. **París, Francia:** Deléitate con los clásicos bistec con patatas fritas y los caracoles servidos con fideos.\n",
      "7. **Estambul, Turquía:** Descubre el manti (raviolis turcos) y el keskek (fideos de trigo| con carne).\n",
      "8. **Lima, Perú:** Prueba los tallarines saltados, los lomo saltado y el ceviche acompañado de fideos.\n",
      "9. **Ciudad Ho Chi Minh, Vietnam:** Sumérgete en los deliciosos sabores de los fideos pho, los banh mi (sándwiches) y los fideos rotos con carne de res.\n",
      "10. **Nueva York, Estados Unidos:** Explora el vibrante barrio chino y prueba los fideos de mano estirados, los fideos de arroz y los platos de fideos inspirados en la gastronomía internacional.|"
     ]
    }
   ],
   "source": [
    "chunks = []\n",
    "async for chunk in chain2.astream({\"comida\":\"noodles\",\"n\":\"10\"}):\n",
    "    print(chunk, end=\"|\", flush=True)\n",
    "    "
   ]
  },
  {
   "cell_type": "code",
   "execution_count": 50,
   "id": "6a1149e0",
   "metadata": {},
   "outputs": [
    {
     "data": {
      "text/plain": [
       "{'destinations': [{'name': 'Paris, France',\n",
       "   'description': \"Paris is known as the dessert capital of the world, with famous patisseries like Pierre Hermé and Ladurée. Don't miss out on trying classic French desserts like crème brûlée, éclairs, and macarons.\"},\n",
       "  {'name': 'New York City, USA',\n",
       "   'description': \"NYC is a dessert lover's paradise, with a wide variety of options from classic American desserts like apple pie and cheesecake to unique creations from world-renowned chefs. Be sure to check out famous spots like Magnolia Bakery and Serendipity 3.\"},\n",
       "  {'name': 'Tokyo, Japan',\n",
       "   'description': \"Tokyo is known for its unique and intricate desserts, such as mochi, dorayaki, and matcha-flavored treats. Visit popular spots like Harajuku's Takeshita Street and the historic Ginza district for a taste of these delicious desserts.\"},\n",
       "  {'name': 'Sydney, Australia',\n",
       "   'description': 'Sydney offers a mix of classic and modern desserts, from pavlova and lamingtons to gourmet ice cream and artisanal chocolates. Check out famous dessert spots like The Grounds of Alexandria and Adriano Zumbo.'},\n",
       "  {'name': 'Vienna, Austria',\n",
       "   'description': 'Vienna is famous for its pastries, such as the Sacher-Torte, apple strudel, and kaiserschmarrn. Visit historic cafes like Café Central and Café Sacher for a taste of these delicious desserts.'}]}"
      ]
     },
     "execution_count": 50,
     "metadata": {},
     "output_type": "execute_result"
    }
   ],
   "source": [
    "from langchain_core.output_parsers.json import SimpleJsonOutputParser\n",
    "json_parser = SimpleJsonOutputParser()\n",
    "prompt_json = PromptTemplate(\n",
    "    input_variables=[\"food\"],\n",
    "    template=\"What are {n} vacation destinations for someone who likes to eat {food}? return a json object\",\n",
    ")\n",
    "\n",
    "chain3 = prompt_json| chat_google | json_parser\n",
    "chain3.invoke({\"food\":\"desserts\", \"n\":\"5\"})"
   ]
  },
  {
   "cell_type": "code",
   "execution_count": null,
   "id": "7d3f025c",
   "metadata": {},
   "outputs": [],
   "source": [
    "json_parser.get_format_instructions()"
   ]
  },
  {
   "cell_type": "code",
   "execution_count": 51,
   "id": "a34ff024",
   "metadata": {},
   "outputs": [
    {
     "name": "stderr",
     "output_type": "stream",
     "text": [
      "d:\\code\\python\\SETI\\GenAI\\.venv\\Lib\\site-packages\\langchain_core\\_api\\deprecation.py:139: LangChainDeprecationWarning: The class `LLMChain` was deprecated in LangChain 0.1.17 and will be removed in 1.0. Use RunnableSequence, e.g., `prompt | llm` instead.\n",
      "  warn_deprecated(\n"
     ]
    }
   ],
   "source": [
    "\n",
    "from langchain.chains import LLMChain #legacy chain\n",
    "#LEGACY\n",
    "chain = LLMChain(llm=chat_google, prompt=prompt)"
   ]
  },
  {
   "cell_type": "code",
   "execution_count": 52,
   "id": "0b08b76a",
   "metadata": {},
   "outputs": [
    {
     "name": "stdout",
     "output_type": "stream",
     "text": [
      "{'food': 'fruit', 'text': '1. Maui, Hawaii: The \"Valley Isle\" is renowned for its tropical fruit bounty, including sweet pineapples, juicy papayas, flavorful mangoes, and aromatic bananas.\\n2. Chiang Mai, Thailand: The \"Fruit Capital of Thailand\" offers a vibrant fruit market where you can sample exotic tropical delights like lychee, mangosteen, dragon fruit, and jackfruit.\\n3. Costa Rica: With its lush rainforests and diverse ecosystems, Costa Rica is a paradise for fruit lovers. Enjoy fresh pineapples, bananas, papayas, starfruit, and guanábana, as well as tropical treats like cashews, almonds, and coconuts.\\n4. Okinawa, Japan: The subtropical climate of Japan\\'s southernmost islands fosters a wide variety of fruits, including juicy pineapples, sweet mangoes, refreshing watermelon, and fragrant lychee.\\n5. Algarve, Portugal: Known for its sun-drenched beaches and citrus groves, the Algarve region boasts a wealth of fresh oranges, grapefruits, lemons, and tangerines, as well as delectable strawberries and figs.'}\n"
     ]
    }
   ],
   "source": [
    "print(chain.invoke(\"fruit\"))"
   ]
  }
 ],
 "metadata": {
  "kernelspec": {
   "display_name": "Python 3 (ipykernel)",
   "language": "python",
   "name": "python3"
  },
  "language_info": {
   "codemirror_mode": {
    "name": "ipython",
    "version": 3
   },
   "file_extension": ".py",
   "mimetype": "text/x-python",
   "name": "python",
   "nbconvert_exporter": "python",
   "pygments_lexer": "ipython3",
   "version": "3.12.0"
  }
 },
 "nbformat": 4,
 "nbformat_minor": 5
}
