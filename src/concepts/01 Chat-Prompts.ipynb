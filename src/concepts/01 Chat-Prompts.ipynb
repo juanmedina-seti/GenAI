{
 "cells": [
  {
   "cell_type": "markdown",
   "id": "2ed4da4d",
   "metadata": {},
   "source": [
    "## Quickstart Guide\n",
    "https://langchain.readthedocs.io/en/latest/getting_started/getting_started.html"
   ]
  },
  {
   "cell_type": "code",
   "execution_count": 1,
   "id": "a05530b1",
   "metadata": {},
   "outputs": [
    {
     "data": {
      "text/plain": [
       "True"
      ]
     },
     "execution_count": 1,
     "metadata": {},
     "output_type": "execute_result"
    }
   ],
   "source": [
    "from dotenv import load_dotenv\n",
    "\n",
    "# Load the environment variables from .env\n",
    "load_dotenv()"
   ]
  },
  {
   "cell_type": "code",
   "execution_count": 2,
   "id": "bb07d3b3-889e-4f9f-90c8-01bc7c907ec8",
   "metadata": {},
   "outputs": [
    {
     "data": {
      "text/plain": [
       "{'ALLUSERSPROFILE': 'C:\\\\ProgramData',\n",
       " 'APPDATA': 'C:\\\\Users\\\\juanm\\\\AppData\\\\Roaming',\n",
       " 'APPLICATION_INSIGHTS_NO_DIAGNOSTIC_CHANNEL': '1',\n",
       " 'AZURE_SEARCH_KEY': '<hidden>',\n",
       " 'AZURE_SEARCH_SERVICE': 'https://vs-securitysurvey.search.windows.net',\n",
       " 'CHROMA_PATH': 'D:\\\\code\\\\python\\\\chroma\\\\seguridaddb',\n",
       " 'CHROME_CRASHPAD_PIPE_NAME': '\\\\\\\\.\\\\pipe\\\\crashpad_8336_TMPINEWDEAUWYUWW',\n",
       " 'CLOUDSDK_METRICS_ENVIRONMENT': 'cloudcode.vscode',\n",
       " 'CLOUDSDK_METRICS_ENVIRONMENT_VERSION': '2.17.0',\n",
       " 'COMMONPROGRAMFILES': 'C:\\\\Program Files\\\\Common Files',\n",
       " 'COMMONPROGRAMFILES(X86)': 'C:\\\\Program Files (x86)\\\\Common Files',\n",
       " 'COMMONPROGRAMW6432': 'C:\\\\Program Files\\\\Common Files',\n",
       " 'COMPUTERNAME': 'DESKTOP-RA4D1A7',\n",
       " 'COMSPEC': 'C:\\\\WINDOWS\\\\system32\\\\cmd.exe',\n",
       " 'DBA_PDF_PATH': 'data\\\\dba',\n",
       " 'DRIVERDATA': 'C:\\\\Windows\\\\System32\\\\Drivers\\\\DriverData',\n",
       " 'EFC_16244': '1',\n",
       " 'ELECTRON_RUN_AS_NODE': '1',\n",
       " 'EMBEDDING_MODEL_CHUNKS': 'sentence-transformers/all-mpnet-base-v2',\n",
       " 'EMBEDDING_MODEL_QA': 'sentence-transformers/multi-qa-MiniLM-L6-dot-v1',\n",
       " 'EXCEL_FILE_PATH': 'data\\\\encuesta\\\\Modelo BD Cuestionarios_V1.xlsx',\n",
       " 'GOOGLE_API_KEY': '<hidden>',\n",
       " 'GROQ_API_KEY': '<hidden>',\n",
       " 'HADOOP_HOME': 'C:\\\\apps\\\\opts\\\\spark-3.0.3-bin-hadoop2.7',\n",
       " 'HOMEDRIVE': 'C:',\n",
       " 'HOMEPATH': '\\\\Users\\\\juanm',\n",
       " 'HUGGINGFACEHUB_API_TOKEN': '<hidden>',\n",
       " 'JPY_INTERRUPT_EVENT': '2040',\n",
       " 'LANGCHAIN_API_KEY': '<hidden>',\n",
       " 'LOCALAPPDATA': 'C:\\\\Users\\\\juanm\\\\AppData\\\\Local',\n",
       " 'LOGONSERVER': '\\\\\\\\DESKTOP-RA4D1A7',\n",
       " 'NEXT_DEPLOYMENT_ID': '',\n",
       " 'NODE_ENV': 'production',\n",
       " 'NUMBER_OF_PROCESSORS': '8',\n",
       " 'OLLAMA_MODELS': 'D:\\\\OLLAMA_MODELS',\n",
       " 'ONEDRIVE': 'D:\\\\juanm\\\\OneDrive',\n",
       " 'ONEDRIVECONSUMER': 'D:\\\\juanm\\\\OneDrive',\n",
       " 'OPENAI_API_KEY': '<hidden>',\n",
       " 'ORIGINAL_XDG_CURRENT_DESKTOP': 'undefined',\n",
       " 'OS': 'Windows_NT',\n",
       " 'PATH': 'd:\\\\code\\\\python\\\\SETI\\\\GenAI\\\\.venv\\\\Scripts;D:\\\\code\\\\python\\\\SETI\\\\GenAI\\\\.venv\\\\Scripts;C:\\\\Program Files\\\\Common Files\\\\Oracle\\\\Java\\\\javapath;C:\\\\Program Files (x86)\\\\Common Files\\\\Oracle\\\\Java\\\\javapath;C:\\\\WINDOWS\\\\system32;C:\\\\WINDOWS;C:\\\\WINDOWS\\\\System32\\\\Wbem;C:\\\\WINDOWS\\\\System32\\\\WindowsPowerShell\\\\v1.0\\\\;C:\\\\WINDOWS\\\\System32\\\\OpenSSH\\\\;C:\\\\apps\\\\opts\\\\spark-3.0.3-bin-hadoop2.7\\\\bin;C:\\\\apps\\\\opts\\\\spark-3.0.3-bin-hadoop2.7\\\\bin;C:\\\\Program Files\\\\Git\\\\cmd;C:\\\\Program Files\\\\Git\\\\bin;C:\\\\Program Files\\\\dotnet\\\\;C:\\\\Program Files\\\\Docker\\\\Docker\\\\resources\\\\bin;C:\\\\Program Files\\\\Microsoft SQL Server\\\\Client SDK\\\\ODBC\\\\170\\\\Tools\\\\Binn\\\\;C:\\\\Program Files (x86)\\\\Microsoft SQL Server\\\\160\\\\DTS\\\\Binn\\\\;C:\\\\Program Files\\\\PowerShell\\\\7\\\\;C:\\\\Users\\\\juanm\\\\AppData\\\\Local\\\\Programs\\\\Python\\\\Python312\\\\Scripts\\\\;C:\\\\Users\\\\juanm\\\\AppData\\\\Local\\\\Programs\\\\Python\\\\Python312\\\\;C:\\\\Users\\\\juanm\\\\AppData\\\\Local\\\\Programs\\\\Python\\\\Launcher\\\\;C:\\\\Users\\\\juanm\\\\bin;C:\\\\Users\\\\juanm\\\\AppData\\\\Local\\\\Microsoft\\\\WindowsApps;C:\\\\Users\\\\juanm\\\\AppData\\\\Local\\\\Programs\\\\Microsoft VS Code\\\\bin;C:\\\\Users\\\\juanm\\\\AppData\\\\Local\\\\Packages\\\\PythonSoftwareFoundation.Python.3.9_qbz5n2kfra8p0\\\\LocalCache\\\\local-packages\\\\Python39\\\\Scripts;C:\\\\Users\\\\juanm\\\\AppData\\\\Local\\\\Programs\\\\Hyper\\\\resources\\\\bin;C:\\\\Users\\\\juanm\\\\.deno\\\\bin;C:\\\\Program Files\\\\Azure Data Studio\\\\bin;C:\\\\Panda3D-1.10.13-x64\\\\python;C:\\\\Panda3D-1.10.13-x64\\\\python\\\\Scripts;C:\\\\Panda3D-1.10.13-x64\\\\bin;C:\\\\Users\\\\juanm\\\\AppData\\\\Local\\\\Microsoft\\\\WindowsApps;C:\\\\Users\\\\juanm\\\\.dotnet\\\\tools;C:\\\\Users\\\\juanm\\\\AppData\\\\Local\\\\Programs\\\\Ollama;D:\\\\code\\\\poetry\\\\Scripts;C:\\\\Users\\\\juanm\\\\AppData\\\\Local\\\\GitHubDesktop\\\\bin',\n",
       " 'PATHEXT': '.COM;.EXE;.BAT;.CMD;.VBS;.VBE;.JS;.JSE;.WSF;.WSH;.MSC',\n",
       " 'PORT': '54112',\n",
       " 'POWERSHELL_DISTRIBUTION_CHANNEL': 'MSI:Windows 10 Pro',\n",
       " 'PROCESSOR_ARCHITECTURE': 'AMD64',\n",
       " 'PROCESSOR_IDENTIFIER': 'AMD64 Family 23 Model 24 Stepping 1, AuthenticAMD',\n",
       " 'PROCESSOR_LEVEL': '23',\n",
       " 'PROCESSOR_REVISION': '1801',\n",
       " 'PROGRAMDATA': 'C:\\\\ProgramData',\n",
       " 'PROGRAMFILES': 'C:\\\\Program Files',\n",
       " 'PROGRAMFILES(X86)': 'C:\\\\Program Files (x86)',\n",
       " 'PROGRAMW6432': 'C:\\\\Program Files',\n",
       " 'PROMPT': '(.venv) $P$G',\n",
       " 'PSMODULEPATH': 'C:\\\\Users\\\\juanm\\\\Documents\\\\WindowsPowerShell\\\\Modules;',\n",
       " 'PUBLIC': 'C:\\\\Users\\\\Public',\n",
       " 'PYDEVD_IPYTHON_COMPATIBLE_DEBUGGING': '1',\n",
       " 'PYSPARK_DRIVER_PYTHON': 'jupyter',\n",
       " 'PYSPARK_DRIVER_PYTHON_OPTS': 'notebook',\n",
       " 'PYTHONIOENCODING': 'utf-8',\n",
       " 'PYTHONUNBUFFERED': '1',\n",
       " 'PYTHON_FROZEN_MODULES': 'on',\n",
       " 'SERPAPI_API_KEY': '<hidden>',\n",
       " 'SERPER_API_KEY': '<hidden>',\n",
       " 'SESSIONNAME': 'Console',\n",
       " 'SPARK_HOME': 'C:\\\\apps\\\\opts\\\\spark-3.0.3-bin-hadoop2.7',\n",
       " 'SPARK_LOCAL_HOSTNAME': 'localhost',\n",
       " 'SYSTEMDRIVE': 'C:',\n",
       " 'SYSTEMROOT': 'C:\\\\WINDOWS',\n",
       " 'TEMP': 'C:\\\\Users\\\\juanm\\\\AppData\\\\Local\\\\Temp',\n",
       " 'TEMP_DIR': 'D:\\\\data\\\\encuesta_seguridad_ai',\n",
       " 'TMP': 'C:\\\\Users\\\\juanm\\\\AppData\\\\Local\\\\Temp',\n",
       " 'USERDOMAIN': 'DESKTOP-RA4D1A7',\n",
       " 'USERDOMAIN_ROAMINGPROFILE': 'DESKTOP-RA4D1A7',\n",
       " 'USERNAME': 'juanm',\n",
       " 'USERPROFILE': 'C:\\\\Users\\\\juanm',\n",
       " 'VECTORDB_DBA': 'D:\\\\code\\\\python\\\\chroma\\\\dba_asistant',\n",
       " 'VIRTUAL_ENV': 'D:\\\\code\\\\python\\\\SETI\\\\GenAI\\\\.venv',\n",
       " 'VIRTUAL_ENV_PROMPT': '(.venv) ',\n",
       " 'VSCODE_AMD_ENTRYPOINT': 'vs/workbench/api/node/extensionHostProcess',\n",
       " 'VSCODE_CODE_CACHE_PATH': 'C:\\\\Users\\\\juanm\\\\AppData\\\\Roaming\\\\Code\\\\CachedData\\\\38c31bc77e0dd6ae88a4e9cc93428cc27a56ba40',\n",
       " 'VSCODE_CRASH_REPORTER_PROCESS_TYPE': 'extensionHost',\n",
       " 'VSCODE_CWD': 'D:\\\\code\\\\python\\\\SETI\\\\GenAI',\n",
       " 'VSCODE_DOTNET_INSTALL_TOOL_ORIGINAL_HOME': 'undefined',\n",
       " 'VSCODE_HANDLES_UNCAUGHT_ERRORS': 'true',\n",
       " 'VSCODE_IPC_HOOK': '\\\\\\\\.\\\\pipe\\\\aa7c7b73-1.93.1-main-sock',\n",
       " 'VSCODE_NLS_CONFIG': '{\"userLocale\":\"en-us\",\"osLocale\":\"es-co\",\"resolvedLanguage\":\"en\",\"defaultMessagesFile\":\"C:\\\\\\\\Users\\\\\\\\juanm\\\\\\\\AppData\\\\\\\\Local\\\\\\\\Programs\\\\\\\\Microsoft VS Code\\\\\\\\resources\\\\\\\\app\\\\\\\\out\\\\\\\\nls.messages.json\",\"locale\":\"en-us\",\"availableLanguages\":{}}',\n",
       " 'VSCODE_PID': '8336',\n",
       " 'WINDIR': 'C:\\\\WINDOWS',\n",
       " '_OLD_VIRTUAL_PATH': 'C:\\\\Program Files\\\\Common Files\\\\Oracle\\\\Java\\\\javapath;C:\\\\Program Files (x86)\\\\Common Files\\\\Oracle\\\\Java\\\\javapath;C:\\\\WINDOWS\\\\system32;C:\\\\WINDOWS;C:\\\\WINDOWS\\\\System32\\\\Wbem;C:\\\\WINDOWS\\\\System32\\\\WindowsPowerShell\\\\v1.0\\\\;C:\\\\WINDOWS\\\\System32\\\\OpenSSH\\\\;C:\\\\apps\\\\opts\\\\spark-3.0.3-bin-hadoop2.7\\\\bin;C:\\\\apps\\\\opts\\\\spark-3.0.3-bin-hadoop2.7\\\\bin;C:\\\\Program Files\\\\Git\\\\cmd;C:\\\\Program Files\\\\Git\\\\bin;C:\\\\Program Files\\\\dotnet\\\\;C:\\\\Program Files\\\\Docker\\\\Docker\\\\resources\\\\bin;C:\\\\Program Files\\\\Microsoft SQL Server\\\\Client SDK\\\\ODBC\\\\170\\\\Tools\\\\Binn\\\\;C:\\\\Program Files (x86)\\\\Microsoft SQL Server\\\\160\\\\DTS\\\\Binn\\\\;C:\\\\Program Files\\\\PowerShell\\\\7\\\\;C:\\\\Users\\\\juanm\\\\AppData\\\\Local\\\\Programs\\\\Python\\\\Python312\\\\Scripts\\\\;C:\\\\Users\\\\juanm\\\\AppData\\\\Local\\\\Programs\\\\Python\\\\Python312\\\\;C:\\\\Users\\\\juanm\\\\AppData\\\\Local\\\\Programs\\\\Python\\\\Launcher\\\\;C:\\\\Users\\\\juanm\\\\bin;C:\\\\Users\\\\juanm\\\\AppData\\\\Local\\\\Microsoft\\\\WindowsApps;C:\\\\Users\\\\juanm\\\\AppData\\\\Local\\\\Programs\\\\Microsoft VS Code\\\\bin;C:\\\\Users\\\\juanm\\\\AppData\\\\Local\\\\Packages\\\\PythonSoftwareFoundation.Python.3.9_qbz5n2kfra8p0\\\\LocalCache\\\\local-packages\\\\Python39\\\\Scripts;C:\\\\Users\\\\juanm\\\\AppData\\\\Local\\\\Programs\\\\Hyper\\\\resources\\\\bin;C:\\\\Users\\\\juanm\\\\.deno\\\\bin;C:\\\\Program Files\\\\Azure Data Studio\\\\bin;C:\\\\Panda3D-1.10.13-x64\\\\python;C:\\\\Panda3D-1.10.13-x64\\\\python\\\\Scripts;C:\\\\Panda3D-1.10.13-x64\\\\bin;C:\\\\Users\\\\juanm\\\\AppData\\\\Local\\\\Microsoft\\\\WindowsApps;C:\\\\Users\\\\juanm\\\\.dotnet\\\\tools;C:\\\\Users\\\\juanm\\\\AppData\\\\Local\\\\Programs\\\\Ollama;D:\\\\code\\\\poetry\\\\Scripts;C:\\\\Users\\\\juanm\\\\AppData\\\\Local\\\\GitHubDesktop\\\\bin',\n",
       " '_OLD_VIRTUAL_PROMPT': '$P$G',\n",
       " '__COMPAT_LAYER': 'DetectorsAppHealth',\n",
       " '__NEXT_OPTIMIZE_FONTS': 'true',\n",
       " '__NEXT_PRIVATE_ORIGIN': 'http://localhost:54112',\n",
       " '__NEXT_PRIVATE_RUNTIME_TYPE': '',\n",
       " '__NEXT_PRIVATE_STANDALONE_CONFIG': '{\"env\":{},\"webpack\":null,\"eslint\":{\"ignoreDuringBuilds\":false},\"typescript\":{\"ignoreBuildErrors\":false,\"tsconfigPath\":\"tsconfig.json\"},\"distDir\":\"./.next\",\"cleanDistDir\":true,\"assetPrefix\":\"\",\"configOrigin\":\"next.config.js\",\"useFileSystemPublicRoutes\":true,\"generateEtags\":true,\"pageExtensions\":[\"tsx\",\"ts\",\"jsx\",\"js\"],\"poweredByHeader\":true,\"compress\":true,\"analyticsId\":\"\",\"images\":{\"deviceSizes\":[640,750,828,1080,1200,1920,2048,3840],\"imageSizes\":[16,32,48,64,96,128,256,384],\"path\":\"/_next/image\",\"loader\":\"default\",\"loaderFile\":\"\",\"domains\":[],\"disableStaticImages\":false,\"minimumCacheTTL\":60,\"formats\":[\"image/webp\"],\"dangerouslyAllowSVG\":false,\"contentSecurityPolicy\":\"script-src \\'none\\'; frame-src \\'none\\'; sandbox;\",\"contentDispositionType\":\"inline\",\"remotePatterns\":[],\"unoptimized\":false},\"devIndicators\":{\"buildActivity\":true,\"buildActivityPosition\":\"bottom-right\"},\"onDemandEntries\":{\"maxInactiveAge\":60000,\"pagesBufferLength\":5},\"amp\":{\"canonicalBase\":\"\"},\"basePath\":\"\",\"sassOptions\":{},\"trailingSlash\":false,\"i18n\":null,\"productionBrowserSourceMaps\":false,\"optimizeFonts\":true,\"excludeDefaultMomentLocales\":true,\"serverRuntimeConfig\":{},\"publicRuntimeConfig\":{},\"reactProductionProfiling\":false,\"reactStrictMode\":null,\"httpAgentOptions\":{\"keepAlive\":true},\"outputFileTracing\":true,\"staticPageGenerationTimeout\":60,\"swcMinify\":true,\"output\":\"standalone\",\"modularizeImports\":{\"@mui/icons-material\":{\"transform\":\"@mui/icons-material/{{member}}\"},\"date-fns\":{\"transform\":\"date-fns/{{member}}\"},\"lodash\":{\"transform\":\"lodash/{{member}}\"},\"lodash-es\":{\"transform\":\"lodash-es/{{member}}\"},\"ramda\":{\"transform\":\"ramda/es/{{member}}\"},\"react-bootstrap\":{\"transform\":{\"useAccordionButton\":\"modularize-import-loader?name=useAccordionButton&from=named&as=default!react-bootstrap/AccordionButton\",\"*\":\"react-bootstrap/{{member}}\"}},\"antd\":{\"transform\":\"antd/lib/{{kebabCase member}}\"},\"ahooks\":{\"transform\":{\"createUpdateEffect\":\"modularize-import-loader?name=createUpdateEffect&from=named&as=default!ahooks/es/createUpdateEffect\",\"*\":\"ahooks/es/{{member}}\"}},\"@ant-design/icons\":{\"transform\":{\"IconProvider\":\"modularize-import-loader?name=IconProvider&from=named&as=default!@ant-design/icons\",\"createFromIconfontCN\":\"@ant-design/icons/es/components/IconFont\",\"getTwoToneColor\":\"modularize-import-loader?name=getTwoToneColor&from=named&as=default!@ant-design/icons/es/components/twoTonePrimaryColor\",\"setTwoToneColor\":\"modularize-import-loader?name=setTwoToneColor&from=named&as=default!@ant-design/icons/es/components/twoTonePrimaryColor\",\"*\":\"@ant-design/icons/lib/icons/{{member}}\"}},\"next/server\":{\"transform\":\"next/dist/server/web/exports/{{ kebabCase member }}\"}},\"experimental\":{\"serverMinification\":true,\"serverSourceMaps\":false,\"caseSensitiveRoutes\":false,\"useDeploymentId\":false,\"useDeploymentIdServerActions\":false,\"clientRouterFilter\":true,\"clientRouterFilterRedirects\":false,\"fetchCacheKeyPrefix\":\"\",\"middlewarePrefetch\":\"flexible\",\"optimisticClientCache\":true,\"manualClientBasePath\":false,\"cpus\":9,\"memoryBasedWorkersCount\":false,\"isrFlushToDisk\":true,\"workerThreads\":false,\"optimizeCss\":false,\"nextScriptWorkers\":false,\"scrollRestoration\":false,\"externalDir\":false,\"disableOptimizedLoading\":false,\"gzipSize\":true,\"craCompat\":false,\"esmExternals\":true,\"isrMemoryCacheSize\":52428800,\"fullySpecified\":false,\"outputFileTracingRoot\":\"/Users/maol/WebstormProjects/Trabajo/codegpt-nextjs\",\"swcTraceProfiling\":false,\"forceSwcTransforms\":false,\"largePageDataBytes\":128000,\"adjustFontFallbacks\":false,\"adjustFontFallbacksWithSizeAdjust\":false,\"typedRoutes\":false,\"instrumentationHook\":false,\"bundlePagesExternals\":false,\"optimizePackageImports\":[\"lucide-react\",\"@headlessui/react\",\"@headlessui-float/react\",\"@heroicons/react/20/solid\",\"@heroicons/react/24/solid\",\"@heroicons/react/24/outline\",\"@visx/visx\",\"@tremor/react\",\"rxjs\",\"@mui/material\",\"@mui/icons-material\",\"recharts\",\"react-use\",\"@material-ui/core\",\"@material-ui/icons\",\"@tabler/icons-react\",\"mui-core\",\"react-icons/ai\",\"react-icons/bi\",\"react-icons/bs\",\"react-icons/cg\",\"react-icons/ci\",\"react-icons/di\",\"react-icons/fa\",\"react-icons/fa6\",\"react-icons/fc\",\"react-icons/fi\",\"react-icons/gi\",\"react-icons/go\",\"react-icons/gr\",\"react-icons/hi\",\"react-icons/hi2\",\"react-icons/im\",\"react-icons/io\",\"react-icons/io5\",\"react-icons/lia\",\"react-icons/lib\",\"react-icons/lu\",\"react-icons/md\",\"react-icons/pi\",\"react-icons/ri\",\"react-icons/rx\",\"react-icons/si\",\"react-icons/sl\",\"react-icons/tb\",\"react-icons/tfi\",\"react-icons/ti\",\"react-icons/vsc\",\"react-icons/wi\"],\"trustHostHeader\":false,\"isExperimentalCompile\":false},\"configFileName\":\"next.config.js\"}',\n",
       " 'PYDEVD_USE_FRAME_EVAL': 'NO',\n",
       " 'TERM': 'xterm-color',\n",
       " 'CLICOLOR': '1',\n",
       " 'FORCE_COLOR': '1',\n",
       " 'CLICOLOR_FORCE': '1',\n",
       " 'PAGER': 'cat',\n",
       " 'GIT_PAGER': 'cat',\n",
       " 'MPLBACKEND': 'module://matplotlib_inline.backend_inline'}"
      ]
     },
     "execution_count": 2,
     "metadata": {},
     "output_type": "execute_result"
    }
   ],
   "source": [
    "%env"
   ]
  },
  {
   "cell_type": "markdown",
   "id": "0126a6a1",
   "metadata": {},
   "source": [
    "# Building A Language Model Application\n",
    "### LLMS: Get predictions from a language model"
   ]
  },
  {
   "cell_type": "code",
   "execution_count": 5,
   "id": "4bef95a9",
   "metadata": {},
   "outputs": [],
   "source": [
    "from langchain_google_genai import ChatGoogleGenerativeAI\n",
    "\n",
    "chat_google = ChatGoogleGenerativeAI(temperature=0.9, model='gemini-pro')\n",
    "\n"
   ]
  },
  {
   "cell_type": "code",
   "execution_count": 4,
   "id": "770f760f",
   "metadata": {},
   "outputs": [],
   "source": [
    "from langchain_groq import ChatGroq\n",
    "chat_mixtral = ChatGroq(temperature=0.7,  model_name=\"mixtral-8x7b-32768\")"
   ]
  },
  {
   "cell_type": "code",
   "execution_count": 6,
   "id": "9ebe6d15",
   "metadata": {},
   "outputs": [
    {
     "data": {
      "text/plain": [
       "AIMessage(content='1. Rome, Italy\\n2. Bologna, Italy\\n3. Naples, Italy\\n4. Florence, Italy\\n5. Parma, Italy', response_metadata={'prompt_feedback': {'block_reason': 0, 'safety_ratings': []}, 'finish_reason': 'STOP', 'safety_ratings': [{'category': 'HARM_CATEGORY_SEXUALLY_EXPLICIT', 'probability': 'NEGLIGIBLE', 'blocked': False}, {'category': 'HARM_CATEGORY_HATE_SPEECH', 'probability': 'NEGLIGIBLE', 'blocked': False}, {'category': 'HARM_CATEGORY_HARASSMENT', 'probability': 'NEGLIGIBLE', 'blocked': False}, {'category': 'HARM_CATEGORY_DANGEROUS_CONTENT', 'probability': 'NEGLIGIBLE', 'blocked': False}]}, id='run-1ce93da5-8950-4009-b7a2-8e5cd62d41b7-0', usage_metadata={'input_tokens': 15, 'output_tokens': 29, 'total_tokens': 44})"
      ]
     },
     "execution_count": 6,
     "metadata": {},
     "output_type": "execute_result"
    }
   ],
   "source": [
    "text = \"What are 5 vacation destinations for someone who likes to eat pasta?\"\n",
    "chat_google.invoke(text)\n"
   ]
  },
  {
   "cell_type": "code",
   "execution_count": 7,
   "id": "ab8f3056",
   "metadata": {},
   "outputs": [
    {
     "name": "stdout",
     "output_type": "stream",
     "text": [
      "1. Italy: Italy is the birthplace of pasta and the perfect destination for anyone who loves this dish. From the classic spaghetti Bolognese in Bologna to the delicious seafood pasta in Amalfi Coast, Italy offers an endless variety of pasta dishes that will delight your taste buds.\n",
      "\n",
      "2. New York City, USA: NYC is home to some of the best Italian-American cuisine in the world, and pasta is a staple on many menus. You can find everything from classic dishes like lasagna and fettuccine alfredo to more innovative creations like squid ink pasta and truffle pasta.\n",
      "\n",
      "3. Tokyo, Japan: While it might seem surprising, Tokyo is home to some of the best Italian food outside of Italy. The city has a large Italian expat community, and many high-end restaurants specialize in pasta dishes. You can find authentic Italian pasta made with fresh, locally sourced ingredients.\n",
      "\n",
      "4. Sydney, Australia: Sydney has a vibrant Italian community and a thriving food scene. You can find delicious pasta dishes at many of the city's Italian restaurants, from classic dishes like carbonara and puttanesca to more modern creations like sea urchin pasta and beetroot ravioli.\n",
      "\n",
      "5. Barcelona, Spain: Barcelona may be known for its tapas and paella, but the city also has a thriving Italian food scene. You can find delicious pasta dishes at many of the city's Italian restaurants, from classic dishes like spaghetti carbonara and linguine with clams to more innovative creations like black truffle pasta and pasta with squid ink.\n"
     ]
    }
   ],
   "source": [
    "response = chat_mixtral.invoke(text)\n",
    "print(response.content)"
   ]
  },
  {
   "cell_type": "code",
   "execution_count": 10,
   "id": "ed94255b",
   "metadata": {},
   "outputs": [
    {
     "name": "stdout",
     "output_type": "stream",
     "text": [
      "{'finish_reason': 'stop',\n",
      " 'logprobs': None,\n",
      " 'model_name': 'mixtral-8x7b-32768',\n",
      " 'system_fingerprint': 'fp_c5f20b5bb1',\n",
      " 'token_usage': {'completion_time': 0.594781274,\n",
      "                 'completion_tokens': 367,\n",
      "                 'prompt_time': 0.00255368,\n",
      "                 'prompt_tokens': 24,\n",
      "                 'queue_time': 0.010909968999999999,\n",
      "                 'total_time': 0.597334954,\n",
      "                 'total_tokens': 391}}\n"
     ]
    }
   ],
   "source": [
    "import pprint\n",
    "\n",
    "pprint.pprint(response.response_metadata)"
   ]
  },
  {
   "cell_type": "markdown",
   "id": "7657e1e9",
   "metadata": {},
   "source": [
    "### Prompt Templates: Manage prompts for LLMs"
   ]
  },
  {
   "cell_type": "code",
   "execution_count": 11,
   "id": "168f2277",
   "metadata": {},
   "outputs": [],
   "source": [
    "from langchain.prompts import PromptTemplate"
   ]
  },
  {
   "cell_type": "code",
   "execution_count": 12,
   "id": "9d6d3761",
   "metadata": {},
   "outputs": [],
   "source": [
    "prompt = PromptTemplate(\n",
    "    input_variables=[\"food\"],\n",
    "    template=\"What are 5 vacation destinations for someone who likes to eat {food}? \",\n",
    ")"
   ]
  },
  {
   "cell_type": "code",
   "execution_count": 13,
   "id": "160f8a0f",
   "metadata": {},
   "outputs": [
    {
     "data": {
      "text/plain": [
       "StringPromptValue(text='What are 5 vacation destinations for someone who likes to eat pizza? ')"
      ]
     },
     "execution_count": 13,
     "metadata": {},
     "output_type": "execute_result"
    }
   ],
   "source": [
    "prompt.invoke({\"food\":\"pizza\"})"
   ]
  },
  {
   "cell_type": "code",
   "execution_count": 14,
   "id": "4309f2a0",
   "metadata": {},
   "outputs": [
    {
     "data": {
      "text/plain": [
       "'1. **Valencia, Spain:** Known as the \"Fruit Basket of Spain,\" Valencia offers a wide variety of fresh fruits, including oranges, clementines, lemons, grapefruit, and more.\\n2. **Chiapas, Mexico:** This Mexican state is a paradise for fruit lovers, boasting a variety of tropical fruits such as mangoes, papaya, bananas, avocados, and cacao.\\n3. **Hawaii, USA:** The Aloha State is famous for its exotic fruits, including pineapples, papayas, mangoes, and lychee.\\n4. **Queensland, Australia:** The Sunshine State of Australia is home to a diverse range of fruits, including mangoes, bananas, avocados, grapes, and berries.\\n5. **Kerala, India:** This southern Indian state is known for its abundance of tropical fruits, such as bananas, mangoes, jackfruits, pineapples, and coconuts.'"
      ]
     },
     "execution_count": 14,
     "metadata": {},
     "output_type": "execute_result"
    }
   ],
   "source": [
    "#LCEL\n",
    "chain = prompt|chat_google\n",
    "response = chain.invoke({\"food\":\"fruits\"})\n",
    "response.content"
   ]
  },
  {
   "cell_type": "code",
   "execution_count": 16,
   "id": "40284e22",
   "metadata": {},
   "outputs": [
    {
     "name": "stdout",
     "output_type": "stream",
     "text": [
      "1. **Hamburguesas de Shake Shack, Nueva York, EE. UU.**\n",
      "2. **Au Cheval, Chicago, EE. UU.**\n",
      "3. **In-N-Out Burger, California, EE. UU.**\n",
      "4. **The Counter, varios lugares en EE. UU.**\n",
      "5. **Five Guys, varios lugares en EE. UU. y el Reino Unido**\n",
      "6. **Patty & Bun, Londres, Reino Unido**\n",
      "7. **Burger & Lobster, Londres, Reino Unido**\n",
      "8. **The Black Bear Burger, Tokio, Japón**\n",
      "9. **Better Burger, Ciudad del Cabo, Sudáfrica**\n",
      "10. **The Burger Joint, Dubái, Emiratos Árabes Unidos**\n"
     ]
    },
    {
     "ename": "NameError",
     "evalue": "name 'Markdown' is not defined",
     "output_type": "error",
     "traceback": [
      "\u001b[1;31m---------------------------------------------------------------------------\u001b[0m",
      "\u001b[1;31mNameError\u001b[0m                                 Traceback (most recent call last)",
      "Cell \u001b[1;32mIn[16], line 8\u001b[0m\n\u001b[0;32m      4\u001b[0m chain2 \u001b[38;5;241m=\u001b[39m  promt30\u001b[38;5;241m|\u001b[39mchat_google \u001b[38;5;241m|\u001b[39moutput_parser\n\u001b[0;32m      6\u001b[0m \u001b[38;5;28mprint\u001b[39m(chain2\u001b[38;5;241m.\u001b[39minvoke({\u001b[38;5;124m\"\u001b[39m\u001b[38;5;124mcomida\u001b[39m\u001b[38;5;124m\"\u001b[39m:\u001b[38;5;124m\"\u001b[39m\u001b[38;5;124mhamburger\u001b[39m\u001b[38;5;124m\"\u001b[39m,\u001b[38;5;124m\"\u001b[39m\u001b[38;5;124mn\u001b[39m\u001b[38;5;124m\"\u001b[39m:\u001b[38;5;241m10\u001b[39m}))\n\u001b[1;32m----> 8\u001b[0m \u001b[43mMarkdown\u001b[49m(chain2\u001b[38;5;241m.\u001b[39minvoke({\u001b[38;5;124m\"\u001b[39m\u001b[38;5;124mcomida\u001b[39m\u001b[38;5;124m\"\u001b[39m:\u001b[38;5;124m\"\u001b[39m\u001b[38;5;124mhamburger\u001b[39m\u001b[38;5;124m\"\u001b[39m,\u001b[38;5;124m\"\u001b[39m\u001b[38;5;124mn\u001b[39m\u001b[38;5;124m\"\u001b[39m:\u001b[38;5;241m10\u001b[39m}))\n",
      "\u001b[1;31mNameError\u001b[0m: name 'Markdown' is not defined"
     ]
    }
   ],
   "source": [
    "from langchain_core.output_parsers.string import StrOutputParser\n",
    "output_parser = StrOutputParser()\n",
    "promt30 = PromptTemplate.from_template(\"Dame {n} sitios para visitar en el mundo en los que pueda disfrutar {comida}\")\n",
    "chain2 =  promt30|chat_google |output_parser\n",
    "\n",
    "print(chain2.invoke({\"comida\":\"hamburger\",\"n\":10}))\n"
   ]
  },
  {
   "cell_type": "code",
   "execution_count": 20,
   "id": "b50dc596",
   "metadata": {},
   "outputs": [
    {
     "name": "stdout",
     "output_type": "stream",
     "text": [
      "1. **Tokyo, Japón:** Visita Afuri Ramen para saborear su| legendario caldo de pescado y shio ramen.\n",
      "2. **Beijing, China:** Dirígete a Xiao Wang Mian para probar su auténtico ramen de estilo| Pekín.\n",
      "3. **Seúl, Corea del Sur:** Explora Myeongdong Kyoja y disfruta de su vibrante samgyetang (sopa de pollo con fideos).\n",
      "4. **Bangkok, Tailandia:** Descubre Sukhothai Noodle House para un delicioso khao soi (curry de fideos| al norte de Tailandia).\n",
      "5. **Hong Kong, China:** Visita Mak's Noodle para sus fideos wonton tradicionales y su sopa de fideos de camarones.\n",
      "6. **Hanói, Vietnam:** Prueba el pho en Pho Thin, conocido por su caldo sabroso y fideos suaves.\n",
      "7. **Taipei, Taiwán:** Explora Raohe Night Market y saborea el auténtico niu rou mian (fideos con carne de res).\n",
      "8. **Kioto, Japón:** Visita Ippudo para su cremoso tonkotsu ramen, famoso por su rico caldo de cerdo.|\n",
      "9. **San Francisco, Estados Unidos:** Descubre Ramen Underground para una variedad de sabrosos ramen con influencias globales.\n",
      "10. **Londres, Reino Unido:** Explora Koya para un moderno ramen japonés con ingredientes de temporada.|"
     ]
    }
   ],
   "source": [
    "chunks = []\n",
    "async for chunk in chain2.astream({\"comida\":\"noodles\",\"n\":\"10\"}):\n",
    "    print(chunk, end=\"|\", flush=True)\n",
    "    "
   ]
  },
  {
   "cell_type": "code",
   "execution_count": 21,
   "id": "6a1149e0",
   "metadata": {},
   "outputs": [
    {
     "data": {
      "text/plain": [
       "{'destinations': [{'name': 'Paris, France',\n",
       "   'description': 'Paris is known for its delicious pastries and desserts, such as croissants, pain au chocolat, and macarons. You can find these treats at boulangeries and patisseries all over the city.'},\n",
       "  {'name': 'Rome, Italy',\n",
       "   'description': 'Rome is another great city for dessert lovers, with gelato being the most popular choice. You can find gelato shops on almost every corner, and there are many different flavors to choose from, including classic flavors like chocolate and vanilla, as well as more unique flavors like pistachio and hazelnut.'},\n",
       "  {'name': 'Vienna, Austria',\n",
       "   'description': 'Vienna is known for its coffee culture, but it also has a rich dessert tradition. Some of the most popular desserts include Sachertorte, a chocolate cake with apricot jam, and Apfelstrudel, an apple strudel.'},\n",
       "  {'name': 'New York City, USA',\n",
       "   'description': 'New York City is a melting pot of cultures, which means that you can find desserts from all over the world. Some of the most popular dessert destinations include Chinatown, Little Italy, and the Upper West Side.'},\n",
       "  {'name': 'Tokyo, Japan',\n",
       "   'description': \"Tokyo is a foodie's paradise, and there are plenty of delicious desserts to be found. Some of the most popular options include mochi, a soft, sticky rice cake, and taiyaki, a fish-shaped pancake filled with sweet red bean paste.\"}]}"
      ]
     },
     "execution_count": 21,
     "metadata": {},
     "output_type": "execute_result"
    }
   ],
   "source": [
    "from langchain_core.output_parsers.json import SimpleJsonOutputParser\n",
    "json_parser = SimpleJsonOutputParser()\n",
    "prompt_json = PromptTemplate(\n",
    "    input_variables=[\"food\"],\n",
    "    template=\"What are {n} vacation destinations for someone who likes to eat {food}? return a json object\",\n",
    ")\n",
    "\n",
    "chain3 = prompt_json| chat_google | json_parser\n",
    "chain3.invoke({\"food\":\"desserts\", \"n\":\"5\"})"
   ]
  },
  {
   "cell_type": "code",
   "execution_count": 23,
   "id": "7d3f025c",
   "metadata": {},
   "outputs": [
    {
     "data": {
      "text/plain": [
       "'Return a JSON object.'"
      ]
     },
     "execution_count": 23,
     "metadata": {},
     "output_type": "execute_result"
    }
   ],
   "source": [
    "json_parser.get_format_instructions()"
   ]
  },
  {
   "cell_type": "code",
   "execution_count": 25,
   "id": "a34ff024",
   "metadata": {},
   "outputs": [],
   "source": [
    "\n",
    "from langchain.chains import LLMChain #legacy chain\n",
    "#LEGACY\n",
    "chain = LLMChain(llm=chat_google, prompt=prompt)"
   ]
  },
  {
   "cell_type": "code",
   "execution_count": 26,
   "id": "0b08b76a",
   "metadata": {},
   "outputs": [
    {
     "name": "stdout",
     "output_type": "stream",
     "text": [
      "{'food': 'fruit', 'text': '1. **Hawaii, USA:** Known for its diverse tropical fruits, including pineapples, papayas, mangoes, star fruits, and lychees.\\n2. **Thailand:** A Southeast Asian paradise renowned for its fragrant mangoes, sweet pineapples, juicy rambutans, and refreshing dragon fruits.\\n3. **Costa Rica:** Immerse yourself in a lush rainforest environment and indulge in fresh pineapples, bananas, mangos, and exotic fruits like guanabana and mamoncillo.\\n4. **Mexico:** Explore the vibrant markets and sample a wide variety of fruits, including succulent mangoes, juicy watermelons, sweet pineapples, and refreshing coconuts.\\n5. **Brazil:** Discover the Amazon rainforest and enjoy its abundance of exotic fruits, such as acai berries, passion fruits, pitayas, guavas, and cupuaçu.'}\n"
     ]
    }
   ],
   "source": [
    "print(chain.invoke(\"fruit\"))"
   ]
  }
 ],
 "metadata": {
  "kernelspec": {
   "display_name": "Python 3 (ipykernel)",
   "language": "python",
   "name": "python3"
  },
  "language_info": {
   "codemirror_mode": {
    "name": "ipython",
    "version": 3
   },
   "file_extension": ".py",
   "mimetype": "text/x-python",
   "name": "python",
   "nbconvert_exporter": "python",
   "pygments_lexer": "ipython3",
   "version": "3.12.0"
  }
 },
 "nbformat": 4,
 "nbformat_minor": 5
}
