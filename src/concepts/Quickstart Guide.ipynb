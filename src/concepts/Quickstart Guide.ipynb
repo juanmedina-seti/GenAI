{
 "cells": [
  {
   "cell_type": "markdown",
   "id": "2ed4da4d",
   "metadata": {},
   "source": [
    "## Quickstart Guide\n",
    "https://langchain.readthedocs.io/en/latest/getting_started/getting_started.html"
   ]
  },
  {
   "cell_type": "code",
   "execution_count": 1,
   "id": "3b556fc2",
   "metadata": {
    "scrolled": true
   },
   "outputs": [
    {
     "data": {
      "text/plain": [
       "{'ALLUSERSPROFILE': 'C:\\\\ProgramData',\n",
       " 'APPDATA': 'C:\\\\Users\\\\juanmedina\\\\AppData\\\\Roaming',\n",
       " 'AZURE_SEARCH_KEY': '<hidden>',\n",
       " 'AZURE_SEARCH_SERVICE': 'https://vs-securitysurvey.search.windows.net',\n",
       " 'CHROMA_PATH': 'D:\\\\code\\\\python\\\\chroma\\\\seguridaddb',\n",
       " 'CHROME_CRASHPAD_PIPE_NAME': '\\\\\\\\.\\\\pipe\\\\crashpad_13756_IUQJYRLGNVGEDPDM',\n",
       " 'COMMONPROGRAMFILES': 'C:\\\\Program Files\\\\Common Files',\n",
       " 'COMMONPROGRAMFILES(X86)': 'C:\\\\Program Files (x86)\\\\Common Files',\n",
       " 'COMMONPROGRAMW6432': 'C:\\\\Program Files\\\\Common Files',\n",
       " 'COMPUTERNAME': 'SETI7150',\n",
       " 'COMSPEC': 'C:\\\\WINDOWS\\\\system32\\\\cmd.exe',\n",
       " 'DBA_PDF_PATH': 'data\\\\dba',\n",
       " 'DEFLOGDIR': 'C:\\\\ProgramData\\\\McAfee\\\\Endpoint Security\\\\Logs',\n",
       " 'DRIVERDATA': 'C:\\\\Windows\\\\System32\\\\Drivers\\\\DriverData',\n",
       " 'EFC_10804': '1',\n",
       " 'ELECTRON_RUN_AS_NODE': '1',\n",
       " 'EMBEDDING_MODEL_CHUNKS': 'sentence-transformers/all-mpnet-base-v2',\n",
       " 'EMBEDDING_MODEL_QA': 'sentence-transformers/multi-qa-MiniLM-L6-dot-v1',\n",
       " 'EXCEL_FILE_PATH': 'data\\\\encuesta\\\\Modelo BD Cuestionarios_V1.xlsx',\n",
       " 'GOOGLE_API_KEY': '<hidden>',\n",
       " 'HOMEDRIVE': 'C:',\n",
       " 'HOMEPATH': '\\\\Users\\\\juanmedina',\n",
       " 'HUGGINGFACEHUB_API_TOKEN': '<hidden>',\n",
       " 'JAVA_HOME': 'C:\\\\Program Files\\\\Java\\\\jdk-20',\n",
       " 'JPY_INTERRUPT_EVENT': '1980',\n",
       " 'LANGCHAIN_API_KEY': '<hidden>',\n",
       " 'LOCALAPPDATA': 'C:\\\\Users\\\\juanmedina\\\\AppData\\\\Local',\n",
       " 'LOGONSERVER': '\\\\\\\\SRVSETIS401',\n",
       " 'NUMBER_OF_PROCESSORS': '8',\n",
       " 'ONEDRIVE': 'C:\\\\Users\\\\juanmedina\\\\OneDrive - SETI S.A.S',\n",
       " 'ONEDRIVECOMMERCIAL': 'C:\\\\Users\\\\juanmedina\\\\OneDrive - SETI S.A.S',\n",
       " 'ONEDRIVECONSUMER': 'C:\\\\oneDrive2\\\\OneDrive',\n",
       " 'ONLINESERVICES': 'Online Services',\n",
       " 'ORIGINAL_XDG_CURRENT_DESKTOP': 'undefined',\n",
       " 'OS': 'Windows_NT',\n",
       " 'PATH': 'c:\\\\code\\\\python\\\\SETI\\\\GenAI\\\\.venv\\\\Scripts;C:\\\\code\\\\python\\\\SETI\\\\GenAI\\\\.venv\\\\Scripts;C:\\\\Program Files\\\\Common Files\\\\Oracle\\\\Java\\\\javapath;C:\\\\WINDOWS\\\\system32;C:\\\\WINDOWS;C:\\\\WINDOWS\\\\System32\\\\Wbem;C:\\\\WINDOWS\\\\System32\\\\WindowsPowerShell\\\\v1.0\\\\;C:\\\\WINDOWS\\\\System32\\\\OpenSSH\\\\;C:\\\\Program Files\\\\Java\\\\jdk-20\\\\bin;C:\\\\Program Files\\\\Git\\\\cmd;C:\\\\Program Files\\\\PowerShell\\\\7\\\\;C:\\\\Program Files\\\\Python312;C:\\\\Users\\\\juanmedina\\\\AppData\\\\Local\\\\Microsoft\\\\WindowsApps;C:\\\\Users\\\\juanmedina\\\\AppData\\\\Local\\\\Programs\\\\Microsoft VS Code\\\\bin;C:\\\\Users\\\\juanmedina\\\\AppData\\\\Local\\\\Programs\\\\Python\\\\Python312;C:\\\\code\\\\poetry;',\n",
       " 'PATHEXT': '.COM;.EXE;.BAT;.CMD;.VBS;.VBE;.JS;.JSE;.WSF;.WSH;.MSC',\n",
       " 'PLATFORMCODE': 'AN',\n",
       " 'POWERSHELL_DISTRIBUTION_CHANNEL': 'MSI:Windows 10 Pro',\n",
       " 'PROCESSOR_ARCHITECTURE': 'AMD64',\n",
       " 'PROCESSOR_IDENTIFIER': 'Intel64 Family 6 Model 140 Stepping 1, GenuineIntel',\n",
       " 'PROCESSOR_LEVEL': '6',\n",
       " 'PROCESSOR_REVISION': '8c01',\n",
       " 'PROGRAMDATA': 'C:\\\\ProgramData',\n",
       " 'PROGRAMFILES': 'C:\\\\Program Files',\n",
       " 'PROGRAMFILES(X86)': 'C:\\\\Program Files (x86)',\n",
       " 'PROGRAMW6432': 'C:\\\\Program Files',\n",
       " 'PROMPT': '(.venv) $P$G',\n",
       " 'PSMODULEPATH': 'C:\\\\Program Files\\\\WindowsPowerShell\\\\Modules;C:\\\\WINDOWS\\\\system32\\\\WindowsPowerShell\\\\v1.0\\\\Modules',\n",
       " 'PUBLIC': 'C:\\\\Users\\\\Public',\n",
       " 'PYDEVD_IPYTHON_COMPATIBLE_DEBUGGING': '1',\n",
       " 'PYTHONIOENCODING': 'utf-8',\n",
       " 'PYTHONUNBUFFERED': '1',\n",
       " 'PYTHON_FROZEN_MODULES': 'on',\n",
       " 'REGIONCODE': 'LA',\n",
       " 'SESSIONNAME': 'Console',\n",
       " 'SYSTEMDRIVE': 'C:',\n",
       " 'SYSTEMROOT': 'C:\\\\WINDOWS',\n",
       " 'TEMP': 'C:\\\\Users\\\\JUANME~1\\\\AppData\\\\Local\\\\Temp',\n",
       " 'TEMP_DIR': 'D:\\\\data\\\\encuesta_seguridad_ai',\n",
       " 'TMP': 'C:\\\\Users\\\\JUANME~1\\\\AppData\\\\Local\\\\Temp',\n",
       " 'USERDNSDOMAIN': 'SETIAD.COM.CO',\n",
       " 'USERDOMAIN': 'SETIAD',\n",
       " 'USERDOMAIN_ROAMINGPROFILE': 'SETIAD',\n",
       " 'USERNAME': 'juanmedina',\n",
       " 'USERPROFILE': 'C:\\\\Users\\\\juanmedina',\n",
       " 'VECTORDB_DBA': 'D:\\\\code\\\\python\\\\chroma\\\\dba_asistant',\n",
       " 'VIRTUAL_ENV': 'C:\\\\code\\\\python\\\\SETI\\\\GenAI\\\\.venv',\n",
       " 'VIRTUAL_ENV_PROMPT': '(.venv) ',\n",
       " 'VS140COMNTOOLS': 'C:\\\\Program Files (x86)\\\\Microsoft Visual Studio 14.0\\\\Common7\\\\Tools\\\\',\n",
       " 'VSCODE_AMD_ENTRYPOINT': 'vs/workbench/api/node/extensionHostProcess',\n",
       " 'VSCODE_CODE_CACHE_PATH': 'C:\\\\Users\\\\juanmedina\\\\AppData\\\\Roaming\\\\Code\\\\CachedData\\\\f1e16e1e6214d7c44d078b1f0607b2388f29d729',\n",
       " 'VSCODE_CRASH_REPORTER_PROCESS_TYPE': 'extensionHost',\n",
       " 'VSCODE_CWD': 'C:\\\\code\\\\python\\\\SETI\\\\GenAI',\n",
       " 'VSCODE_HANDLES_UNCAUGHT_ERRORS': 'true',\n",
       " 'VSCODE_IPC_HOOK': '\\\\\\\\.\\\\pipe\\\\9a9c5a0e-1.91.1-main-sock',\n",
       " 'VSCODE_NLS_CONFIG': '{\"locale\":\"en-us\",\"osLocale\":\"es-co\",\"availableLanguages\":{},\"_languagePackSupport\":true}',\n",
       " 'VSCODE_PID': '13756',\n",
       " 'WINDIR': 'C:\\\\WINDOWS',\n",
       " 'ZES_ENABLE_SYSMAN': '1',\n",
       " '_OLD_VIRTUAL_PATH': 'C:\\\\Program Files\\\\Common Files\\\\Oracle\\\\Java\\\\javapath;C:\\\\WINDOWS\\\\system32;C:\\\\WINDOWS;C:\\\\WINDOWS\\\\System32\\\\Wbem;C:\\\\WINDOWS\\\\System32\\\\WindowsPowerShell\\\\v1.0\\\\;C:\\\\WINDOWS\\\\System32\\\\OpenSSH\\\\;C:\\\\Program Files\\\\Java\\\\jdk-20\\\\bin;C:\\\\Program Files\\\\Git\\\\cmd;C:\\\\Program Files\\\\PowerShell\\\\7\\\\;C:\\\\Program Files\\\\Python312;C:\\\\Users\\\\juanmedina\\\\AppData\\\\Local\\\\Microsoft\\\\WindowsApps;C:\\\\Users\\\\juanmedina\\\\AppData\\\\Local\\\\Programs\\\\Microsoft VS Code\\\\bin;C:\\\\Users\\\\juanmedina\\\\AppData\\\\Local\\\\Programs\\\\Python\\\\Python312;C:\\\\code\\\\poetry;',\n",
       " '_OLD_VIRTUAL_PROMPT': '$P$G',\n",
       " 'PYDEVD_USE_FRAME_EVAL': 'NO',\n",
       " 'TERM': 'xterm-color',\n",
       " 'CLICOLOR': '1',\n",
       " 'FORCE_COLOR': '1',\n",
       " 'CLICOLOR_FORCE': '1',\n",
       " 'PAGER': 'cat',\n",
       " 'GIT_PAGER': 'cat',\n",
       " 'MPLBACKEND': 'module://matplotlib_inline.backend_inline'}"
      ]
     },
     "execution_count": 1,
     "metadata": {},
     "output_type": "execute_result"
    }
   ],
   "source": [
    "%env"
   ]
  },
  {
   "cell_type": "code",
   "execution_count": 7,
   "id": "a05530b1",
   "metadata": {},
   "outputs": [
    {
     "data": {
      "text/plain": [
       "True"
      ]
     },
     "execution_count": 7,
     "metadata": {},
     "output_type": "execute_result"
    }
   ],
   "source": [
    "import tqdm as notebook_tqdm\n",
    "from dotenv import load_dotenv\n",
    "\n",
    "# Load the environment variables from .env\n",
    "load_dotenv()"
   ]
  },
  {
   "cell_type": "code",
   "execution_count": 5,
   "id": "bb07d3b3-889e-4f9f-90c8-01bc7c907ec8",
   "metadata": {},
   "outputs": [
    {
     "data": {
      "text/plain": [
       "{'ALLUSERSPROFILE': 'C:\\\\ProgramData',\n",
       " 'APPDATA': 'C:\\\\Users\\\\juanmedina\\\\AppData\\\\Roaming',\n",
       " 'AZURE_SEARCH_KEY': '<hidden>',\n",
       " 'AZURE_SEARCH_SERVICE': 'https://vs-securitysurvey.search.windows.net',\n",
       " 'CHROMA_PATH': 'D:\\\\code\\\\python\\\\chroma\\\\seguridaddb',\n",
       " 'CHROME_CRASHPAD_PIPE_NAME': '\\\\\\\\.\\\\pipe\\\\crashpad_13756_IUQJYRLGNVGEDPDM',\n",
       " 'COMMONPROGRAMFILES': 'C:\\\\Program Files\\\\Common Files',\n",
       " 'COMMONPROGRAMFILES(X86)': 'C:\\\\Program Files (x86)\\\\Common Files',\n",
       " 'COMMONPROGRAMW6432': 'C:\\\\Program Files\\\\Common Files',\n",
       " 'COMPUTERNAME': 'SETI7150',\n",
       " 'COMSPEC': 'C:\\\\WINDOWS\\\\system32\\\\cmd.exe',\n",
       " 'DBA_PDF_PATH': 'data\\\\dba',\n",
       " 'DEFLOGDIR': 'C:\\\\ProgramData\\\\McAfee\\\\Endpoint Security\\\\Logs',\n",
       " 'DRIVERDATA': 'C:\\\\Windows\\\\System32\\\\Drivers\\\\DriverData',\n",
       " 'EFC_10804': '1',\n",
       " 'ELECTRON_RUN_AS_NODE': '1',\n",
       " 'EMBEDDING_MODEL_CHUNKS': 'sentence-transformers/all-mpnet-base-v2',\n",
       " 'EMBEDDING_MODEL_QA': 'sentence-transformers/multi-qa-MiniLM-L6-dot-v1',\n",
       " 'EXCEL_FILE_PATH': 'data\\\\encuesta\\\\Modelo BD Cuestionarios_V1.xlsx',\n",
       " 'GOOGLE_API_KEY': '<hidden>',\n",
       " 'HOMEDRIVE': 'C:',\n",
       " 'HOMEPATH': '\\\\Users\\\\juanmedina',\n",
       " 'HUGGINGFACEHUB_API_TOKEN': '<hidden>',\n",
       " 'JAVA_HOME': 'C:\\\\Program Files\\\\Java\\\\jdk-20',\n",
       " 'JPY_INTERRUPT_EVENT': '1980',\n",
       " 'LANGCHAIN_API_KEY': '<hidden>',\n",
       " 'LOCALAPPDATA': 'C:\\\\Users\\\\juanmedina\\\\AppData\\\\Local',\n",
       " 'LOGONSERVER': '\\\\\\\\SRVSETIS401',\n",
       " 'NUMBER_OF_PROCESSORS': '8',\n",
       " 'ONEDRIVE': 'C:\\\\Users\\\\juanmedina\\\\OneDrive - SETI S.A.S',\n",
       " 'ONEDRIVECOMMERCIAL': 'C:\\\\Users\\\\juanmedina\\\\OneDrive - SETI S.A.S',\n",
       " 'ONEDRIVECONSUMER': 'C:\\\\oneDrive2\\\\OneDrive',\n",
       " 'ONLINESERVICES': 'Online Services',\n",
       " 'ORIGINAL_XDG_CURRENT_DESKTOP': 'undefined',\n",
       " 'OS': 'Windows_NT',\n",
       " 'PATH': 'c:\\\\code\\\\python\\\\SETI\\\\GenAI\\\\.venv\\\\Scripts;C:\\\\code\\\\python\\\\SETI\\\\GenAI\\\\.venv\\\\Scripts;C:\\\\Program Files\\\\Common Files\\\\Oracle\\\\Java\\\\javapath;C:\\\\WINDOWS\\\\system32;C:\\\\WINDOWS;C:\\\\WINDOWS\\\\System32\\\\Wbem;C:\\\\WINDOWS\\\\System32\\\\WindowsPowerShell\\\\v1.0\\\\;C:\\\\WINDOWS\\\\System32\\\\OpenSSH\\\\;C:\\\\Program Files\\\\Java\\\\jdk-20\\\\bin;C:\\\\Program Files\\\\Git\\\\cmd;C:\\\\Program Files\\\\PowerShell\\\\7\\\\;C:\\\\Program Files\\\\Python312;C:\\\\Users\\\\juanmedina\\\\AppData\\\\Local\\\\Microsoft\\\\WindowsApps;C:\\\\Users\\\\juanmedina\\\\AppData\\\\Local\\\\Programs\\\\Microsoft VS Code\\\\bin;C:\\\\Users\\\\juanmedina\\\\AppData\\\\Local\\\\Programs\\\\Python\\\\Python312;C:\\\\code\\\\poetry;',\n",
       " 'PATHEXT': '.COM;.EXE;.BAT;.CMD;.VBS;.VBE;.JS;.JSE;.WSF;.WSH;.MSC',\n",
       " 'PLATFORMCODE': 'AN',\n",
       " 'POWERSHELL_DISTRIBUTION_CHANNEL': 'MSI:Windows 10 Pro',\n",
       " 'PROCESSOR_ARCHITECTURE': 'AMD64',\n",
       " 'PROCESSOR_IDENTIFIER': 'Intel64 Family 6 Model 140 Stepping 1, GenuineIntel',\n",
       " 'PROCESSOR_LEVEL': '6',\n",
       " 'PROCESSOR_REVISION': '8c01',\n",
       " 'PROGRAMDATA': 'C:\\\\ProgramData',\n",
       " 'PROGRAMFILES': 'C:\\\\Program Files',\n",
       " 'PROGRAMFILES(X86)': 'C:\\\\Program Files (x86)',\n",
       " 'PROGRAMW6432': 'C:\\\\Program Files',\n",
       " 'PROMPT': '(.venv) $P$G',\n",
       " 'PSMODULEPATH': 'C:\\\\Program Files\\\\WindowsPowerShell\\\\Modules;C:\\\\WINDOWS\\\\system32\\\\WindowsPowerShell\\\\v1.0\\\\Modules',\n",
       " 'PUBLIC': 'C:\\\\Users\\\\Public',\n",
       " 'PYDEVD_IPYTHON_COMPATIBLE_DEBUGGING': '1',\n",
       " 'PYTHONIOENCODING': 'utf-8',\n",
       " 'PYTHONUNBUFFERED': '1',\n",
       " 'PYTHON_FROZEN_MODULES': 'on',\n",
       " 'REGIONCODE': 'LA',\n",
       " 'SESSIONNAME': 'Console',\n",
       " 'SYSTEMDRIVE': 'C:',\n",
       " 'SYSTEMROOT': 'C:\\\\WINDOWS',\n",
       " 'TEMP': 'C:\\\\Users\\\\JUANME~1\\\\AppData\\\\Local\\\\Temp',\n",
       " 'TEMP_DIR': 'D:\\\\data\\\\encuesta_seguridad_ai',\n",
       " 'TMP': 'C:\\\\Users\\\\JUANME~1\\\\AppData\\\\Local\\\\Temp',\n",
       " 'USERDNSDOMAIN': 'SETIAD.COM.CO',\n",
       " 'USERDOMAIN': 'SETIAD',\n",
       " 'USERDOMAIN_ROAMINGPROFILE': 'SETIAD',\n",
       " 'USERNAME': 'juanmedina',\n",
       " 'USERPROFILE': 'C:\\\\Users\\\\juanmedina',\n",
       " 'VECTORDB_DBA': 'D:\\\\code\\\\python\\\\chroma\\\\dba_asistant',\n",
       " 'VIRTUAL_ENV': 'C:\\\\code\\\\python\\\\SETI\\\\GenAI\\\\.venv',\n",
       " 'VIRTUAL_ENV_PROMPT': '(.venv) ',\n",
       " 'VS140COMNTOOLS': 'C:\\\\Program Files (x86)\\\\Microsoft Visual Studio 14.0\\\\Common7\\\\Tools\\\\',\n",
       " 'VSCODE_AMD_ENTRYPOINT': 'vs/workbench/api/node/extensionHostProcess',\n",
       " 'VSCODE_CODE_CACHE_PATH': 'C:\\\\Users\\\\juanmedina\\\\AppData\\\\Roaming\\\\Code\\\\CachedData\\\\f1e16e1e6214d7c44d078b1f0607b2388f29d729',\n",
       " 'VSCODE_CRASH_REPORTER_PROCESS_TYPE': 'extensionHost',\n",
       " 'VSCODE_CWD': 'C:\\\\code\\\\python\\\\SETI\\\\GenAI',\n",
       " 'VSCODE_HANDLES_UNCAUGHT_ERRORS': 'true',\n",
       " 'VSCODE_IPC_HOOK': '\\\\\\\\.\\\\pipe\\\\9a9c5a0e-1.91.1-main-sock',\n",
       " 'VSCODE_NLS_CONFIG': '{\"locale\":\"en-us\",\"osLocale\":\"es-co\",\"availableLanguages\":{},\"_languagePackSupport\":true}',\n",
       " 'VSCODE_PID': '13756',\n",
       " 'WINDIR': 'C:\\\\WINDOWS',\n",
       " 'ZES_ENABLE_SYSMAN': '1',\n",
       " '_OLD_VIRTUAL_PATH': 'C:\\\\Program Files\\\\Common Files\\\\Oracle\\\\Java\\\\javapath;C:\\\\WINDOWS\\\\system32;C:\\\\WINDOWS;C:\\\\WINDOWS\\\\System32\\\\Wbem;C:\\\\WINDOWS\\\\System32\\\\WindowsPowerShell\\\\v1.0\\\\;C:\\\\WINDOWS\\\\System32\\\\OpenSSH\\\\;C:\\\\Program Files\\\\Java\\\\jdk-20\\\\bin;C:\\\\Program Files\\\\Git\\\\cmd;C:\\\\Program Files\\\\PowerShell\\\\7\\\\;C:\\\\Program Files\\\\Python312;C:\\\\Users\\\\juanmedina\\\\AppData\\\\Local\\\\Microsoft\\\\WindowsApps;C:\\\\Users\\\\juanmedina\\\\AppData\\\\Local\\\\Programs\\\\Microsoft VS Code\\\\bin;C:\\\\Users\\\\juanmedina\\\\AppData\\\\Local\\\\Programs\\\\Python\\\\Python312;C:\\\\code\\\\poetry;',\n",
       " '_OLD_VIRTUAL_PROMPT': '$P$G',\n",
       " 'PYDEVD_USE_FRAME_EVAL': 'NO',\n",
       " 'TERM': 'xterm-color',\n",
       " 'CLICOLOR': '1',\n",
       " 'FORCE_COLOR': '1',\n",
       " 'CLICOLOR_FORCE': '1',\n",
       " 'PAGER': 'cat',\n",
       " 'GIT_PAGER': 'cat',\n",
       " 'MPLBACKEND': 'module://matplotlib_inline.backend_inline',\n",
       " 'GROQ_API_KEY': '<hidden>'}"
      ]
     },
     "execution_count": 5,
     "metadata": {},
     "output_type": "execute_result"
    }
   ],
   "source": [
    "%env"
   ]
  },
  {
   "cell_type": "markdown",
   "id": "0126a6a1",
   "metadata": {},
   "source": [
    "# Building A Language Model Application\n",
    "### LLMS: Get predictions from a language model"
   ]
  },
  {
   "cell_type": "code",
   "execution_count": 4,
   "id": "4bef95a9",
   "metadata": {},
   "outputs": [],
   "source": [
    "from langchain_google_genai import ChatGoogleGenerativeAI\n"
   ]
  },
  {
   "cell_type": "code",
   "execution_count": 5,
   "id": "3596e426",
   "metadata": {},
   "outputs": [],
   "source": [
    "llm = ChatGoogleGenerativeAI(temperature=0.9, model='gemini-pro')"
   ]
  },
  {
   "cell_type": "code",
   "execution_count": 6,
   "id": "9ebe6d15",
   "metadata": {},
   "outputs": [
    {
     "data": {
      "text/plain": [
       "AIMessage(content='1. **Bologna, Italy**: Home of traditional bolognese sauce and tagliatelle alla bolognese.\\n2. **Rome, Italy**: Known for its carbonara, cacio e pepe, and amatriciana pasta dishes.\\n3. **Naples, Italy**: Birthplace of pizza and home to delicious seafood-based pasta dishes like spaghetti alle vongole.\\n4. **Otranto, Italy**: A coastal town in Puglia famous for its orecchiette pasta, served with various sauces.\\n5. **Tokyo, Japan**: Surprising but true, Tokyo offers exceptional pasta experiences with unique twists, such as mentaiko cream pasta and black truffle spaghetti.', response_metadata={'prompt_feedback': {'block_reason': 0, 'safety_ratings': []}, 'finish_reason': 'STOP', 'safety_ratings': [{'category': 'HARM_CATEGORY_SEXUALLY_EXPLICIT', 'probability': 'NEGLIGIBLE', 'blocked': False}, {'category': 'HARM_CATEGORY_HATE_SPEECH', 'probability': 'NEGLIGIBLE', 'blocked': False}, {'category': 'HARM_CATEGORY_HARASSMENT', 'probability': 'NEGLIGIBLE', 'blocked': False}, {'category': 'HARM_CATEGORY_DANGEROUS_CONTENT', 'probability': 'NEGLIGIBLE', 'blocked': False}]}, id='run-5792026f-2ec0-4e5e-9b9f-0adf18df0326-0', usage_metadata={'input_tokens': 15, 'output_tokens': 134, 'total_tokens': 149})"
      ]
     },
     "execution_count": 6,
     "metadata": {},
     "output_type": "execute_result"
    }
   ],
   "source": [
    "text = \"What are 5 vacation destinations for someone who likes to eat pasta?\"\n",
    "llm.invoke(text)\n"
   ]
  },
  {
   "cell_type": "markdown",
   "id": "7657e1e9",
   "metadata": {},
   "source": [
    "### Prompt Templates: Manage prompts for LLMs"
   ]
  },
  {
   "cell_type": "code",
   "execution_count": 8,
   "id": "168f2277",
   "metadata": {},
   "outputs": [],
   "source": [
    "from langchain.prompts import PromptTemplate"
   ]
  },
  {
   "cell_type": "code",
   "execution_count": 22,
   "id": "9d6d3761",
   "metadata": {},
   "outputs": [],
   "source": [
    "prompt = PromptTemplate(\n",
    "    input_variables=[\"food\"],\n",
    "    template=\"What are 5 vacation destinations for someone who likes to eat {food}? \",\n",
    ")"
   ]
  },
  {
   "cell_type": "code",
   "execution_count": 23,
   "id": "160f8a0f",
   "metadata": {},
   "outputs": [
    {
     "name": "stdout",
     "output_type": "stream",
     "text": [
      "What are 5 vacation destinations for someone who likes to eat dessert? return a json object\n"
     ]
    }
   ],
   "source": [
    "print(prompt.format(food=\"dessert\"))"
   ]
  },
  {
   "cell_type": "code",
   "execution_count": 24,
   "id": "4309f2a0",
   "metadata": {},
   "outputs": [
    {
     "data": {
      "text/plain": [
       "AIMessage(content='```json\\n{\\n  \"destinations\": [\\n    {\\n      \"city\": \"Buenos Aires, Argentina\",\\n      \"cuisine\": \"Argentinean cuisine, known for its grilled meats, empanadas, and dulce de leche\"\\n    },\\n    {\\n      \"city\": \"Austin, Texas\",\\n      \"cuisine\": \"Texan cuisine, featuring barbecue, tacos, and chili\"\\n    },\\n    {\\n      \"city\": \"Tokyo, Japan\",\\n      \"cuisine\": \"Japanese cuisine, including sushi, sashimi, and wagyu beef\"\\n    },\\n    {\\n      \"city\": \"Florence, Italy\",\\n      \"cuisine\": \"Tuscan cuisine, highlighted by bistecca alla Fiorentina, pasta dishes, and pecorino cheese\"\\n    },\\n    {\\n      \"city\": \"Seoul, South Korea\",\\n      \"cuisine\": \"Korean cuisine, renowned for its grilled meats, including bulgogi, galbi, and samgyeopsal\"\\n    }\\n  ]\\n}\\n```', response_metadata={'prompt_feedback': {'block_reason': 0, 'safety_ratings': []}, 'finish_reason': 'STOP', 'safety_ratings': [{'category': 'HARM_CATEGORY_SEXUALLY_EXPLICIT', 'probability': 'NEGLIGIBLE', 'blocked': False}, {'category': 'HARM_CATEGORY_HATE_SPEECH', 'probability': 'NEGLIGIBLE', 'blocked': False}, {'category': 'HARM_CATEGORY_HARASSMENT', 'probability': 'NEGLIGIBLE', 'blocked': False}, {'category': 'HARM_CATEGORY_DANGEROUS_CONTENT', 'probability': 'NEGLIGIBLE', 'blocked': False}]}, id='run-c2572742-1dc1-4c4a-a164-d01f9a0ddcff-0', usage_metadata={'input_tokens': 19, 'output_tokens': 216, 'total_tokens': 235})"
      ]
     },
     "execution_count": 24,
     "metadata": {},
     "output_type": "execute_result"
    }
   ],
   "source": [
    "#LCEL\n",
    "chain = prompt|llm\n",
    "chain.invoke(input=\"meat\")"
   ]
  },
  {
   "cell_type": "code",
   "execution_count": 15,
   "id": "40284e22",
   "metadata": {},
   "outputs": [
    {
     "data": {
      "text/plain": [
       "'1. Rome, Italy: The birthplace of pasta, Rome offers an endless array of pasta dishes, from classic carbonara to more inventive creations.\\n\\n2. Bologna, Italy: Known as the \"Food Capital of Italy,\" Bologna is famous for its tagliatelle al ragù, a hearty pasta dish made with a slow-cooked meat sauce.\\n\\n3. Florence, Italy: The Tuscan city of Florence is known for its pappardelle al cinghiale, a wide pasta with a wild boar sauce.\\n\\n4. Naples, Italy: The birthplace of pizza, Naples also has a rich pasta tradition. Try the spaghetti alle vongole, a pasta with clams, or the paccheri alla genovese, a pasta with a meat and onion sauce.\\n\\n5. Sorrento, Italy: This seaside town on the Amalfi Coast is known for its gnocchi alla sorrentina, a potato dumpling pasta with a tomato and mozzarella sauce.'"
      ]
     },
     "execution_count": 15,
     "metadata": {},
     "output_type": "execute_result"
    }
   ],
   "source": [
    "from langchain_core.output_parsers.string import StrOutputParser\n",
    "output_parser = StrOutputParser()\n",
    "\n",
    "chain2 = prompt|llm|output_parser\n",
    "chain2.invoke(input=\"pasta\")"
   ]
  },
  {
   "cell_type": "code",
   "execution_count": 26,
   "id": "6a1149e0",
   "metadata": {},
   "outputs": [
    {
     "data": {
      "text/plain": [
       "{'destinations': [{'name': 'Hawaii',\n",
       "   'fruits': ['Pineapples', 'Papayas', 'Lychees', 'Guavas', 'Mangos']},\n",
       "  {'name': 'Thailand',\n",
       "   'fruits': ['Mangoes', 'Papayas', 'Pineapples', 'Bananas', 'Coconuts']},\n",
       "  {'name': 'Mexico',\n",
       "   'fruits': ['Avocados', 'Mangos', 'Papayas', 'Pineapples', 'Guavas']},\n",
       "  {'name': 'Spain',\n",
       "   'fruits': ['Oranges', 'Grapes', 'Strawberries', 'Melons', 'Figs']},\n",
       "  {'name': 'Brazil',\n",
       "   'fruits': ['Acai berries', 'Papayas', 'Mangoes', 'Pineapples', 'Guavas']}]}"
      ]
     },
     "execution_count": 26,
     "metadata": {},
     "output_type": "execute_result"
    }
   ],
   "source": [
    "from langchain_core.output_parsers.json import SimpleJsonOutputParser\n",
    "json_parser = SimpleJsonOutputParser()\n",
    "prompt_json = PromptTemplate(\n",
    "    input_variables=[\"food\"],\n",
    "    template=\"What are 5 vacation destinations for someone who likes to eat {food}? return a json object\",\n",
    ")\n",
    "\n",
    "chain3 = prompt| llm | json_parser\n",
    "chain3.invoke(input=\"fruits\")"
   ]
  },
  {
   "cell_type": "code",
   "execution_count": 21,
   "id": "7d3f025c",
   "metadata": {},
   "outputs": [
    {
     "data": {
      "text/plain": [
       "'Return a JSON object.'"
      ]
     },
     "execution_count": 21,
     "metadata": {},
     "output_type": "execute_result"
    }
   ],
   "source": [
    "json_parser.get_format_instructions()"
   ]
  },
  {
   "cell_type": "markdown",
   "id": "9cd0c523",
   "metadata": {},
   "source": [
    "### Chains: Combine LLMs and prompts in multi-step workflows"
   ]
  },
  {
   "cell_type": "code",
   "execution_count": 1,
   "id": "a34ff024",
   "metadata": {},
   "outputs": [],
   "source": [
    "from langchain.prompts import PromptTemplate\n",
    "from langchain.chains import LLMChain #legacy chain\n"
   ]
  },
  {
   "cell_type": "code",
   "execution_count": 22,
   "id": "ffbdf4a9",
   "metadata": {},
   "outputs": [],
   "source": [
    "\n",
    "prompt = PromptTemplate(\n",
    "    input_variables=[\"food\"],\n",
    "    template=\"What are 5 vacation destinations for someone who likes to eat {food}?\",\n",
    ")"
   ]
  },
  {
   "cell_type": "code",
   "execution_count": 11,
   "id": "7efda77b",
   "metadata": {},
   "outputs": [
    {
     "name": "stderr",
     "output_type": "stream",
     "text": [
      "c:\\code\\python\\SETI\\GenAI\\.venv\\Lib\\site-packages\\langchain_core\\_api\\deprecation.py:139: LangChainDeprecationWarning: The class `LLMChain` was deprecated in LangChain 0.1.17 and will be removed in 1.0. Use RunnableSequence, e.g., `prompt | llm` instead.\n",
      "  warn_deprecated(\n"
     ]
    }
   ],
   "source": [
    "#LEGACY\n",
    "chain = LLMChain(llm=llm, prompt=prompt)"
   ]
  },
  {
   "cell_type": "code",
   "execution_count": 13,
   "id": "0b08b76a",
   "metadata": {},
   "outputs": [
    {
     "name": "stdout",
     "output_type": "stream",
     "text": [
      "{'food': 'fruit', 'text': '1. Maui, Hawaii (Pineapple, Papaya, Mango)\\n2. Chiang Mai, Thailand (Lychee, Mango, Dragon Fruit)\\n3. Malaga, Spain (Grapefruit, Oranges, Figs)\\n4. Paraty, Brazil (Papaya, Bananas, Guava)\\n5. Mendoza, Argentina (Grapes, Apples, Pears)'}\n"
     ]
    }
   ],
   "source": [
    "print(chain.invoke(\"fruit\"))"
   ]
  },
  {
   "cell_type": "markdown",
   "id": "850668f0",
   "metadata": {},
   "source": [
    "### Agents: Dynamically call chains based on user input"
   ]
  },
  {
   "cell_type": "code",
   "execution_count": null,
   "id": "c19db4aa",
   "metadata": {},
   "outputs": [],
   "source": [
    "! pip install google-search-results"
   ]
  },
  {
   "cell_type": "code",
   "execution_count": 21,
   "id": "6d22c464",
   "metadata": {},
   "outputs": [],
   "source": [
    "from langchain.agents import load_tools\n",
    "from langchain.agents import initialize_agent\n"
   ]
  },
  {
   "cell_type": "code",
   "execution_count": 22,
   "id": "ba25bb42",
   "metadata": {},
   "outputs": [],
   "source": [
    "\n",
    "# Load the model\n"
   ]
  },
  {
   "cell_type": "code",
   "execution_count": 23,
   "id": "0740ce8f",
   "metadata": {},
   "outputs": [],
   "source": [
    "# Load in some tools to use\n",
    "\n",
    "# os.environ[\"SERPAPI_API_KEY\"] = \"...\"\n",
    "\n",
    "tools = load_tools([\"serpapi\", \"llm-math\"], llm=llm)"
   ]
  },
  {
   "cell_type": "code",
   "execution_count": 24,
   "id": "b20f48e3",
   "metadata": {},
   "outputs": [],
   "source": [
    "# Finally, let's initialize an agent with:\n",
    "# 1. The tools\n",
    "# 2. The language model\n",
    "# 3. The type of agent we want to use.\n",
    "\n",
    "agent = initialize_agent(tools, llm, agent=\"zero-shot-react-description\", verbose=True)"
   ]
  },
  {
   "cell_type": "markdown",
   "id": "45f2cf54",
   "metadata": {},
   "source": [
    "See list of agents types [here](https://python.langchain.com/docs/modules/agents/agent_types/)"
   ]
  },
  {
   "cell_type": "code",
   "execution_count": 25,
   "id": "89728919",
   "metadata": {},
   "outputs": [
    {
     "name": "stdout",
     "output_type": "stream",
     "text": [
      "\n",
      "\n",
      "\u001b[1m> Entering new AgentExecutor chain...\u001b[0m\n",
      "\u001b[32;1m\u001b[1;3m I need to find out who the leader of Japan is and then calculate the largest prime number that is smaller than their age.\n",
      "Action: Search\n",
      "Action Input: \"current leader of Japan\"\u001b[0m\n",
      "Observation: \u001b[36;1m\u001b[1;3mFumio Kishida\u001b[0m\n",
      "Thought:\u001b[32;1m\u001b[1;3m I need to find out the age of the leader of Japan\n",
      "Action: Search\n",
      "Action Input: \"age of Fumio Kishida\"\u001b[0m\n",
      "Observation: \u001b[36;1m\u001b[1;3m65 years\u001b[0m\n",
      "Thought:\u001b[32;1m\u001b[1;3m I need to calculate the largest prime number that is smaller than 65\n",
      "Action: Calculator\n",
      "Action Input: 65\u001b[0m\n",
      "Observation: \u001b[33;1m\u001b[1;3mAnswer: 65\u001b[0m\n",
      "Thought:\u001b[32;1m\u001b[1;3m I now know the final answer\n",
      "Final Answer: The current leader of Japan is Fumio Kishida and the largest prime number that is smaller than their age is 61.\u001b[0m\n",
      "\n",
      "\u001b[1m> Finished chain.\u001b[0m\n"
     ]
    },
    {
     "data": {
      "text/plain": [
       "'The current leader of Japan is Fumio Kishida and the largest prime number that is smaller than their age is 61.'"
      ]
     },
     "execution_count": 25,
     "metadata": {},
     "output_type": "execute_result"
    }
   ],
   "source": [
    "# Now let's test it out!\n",
    "agent.run(\"Who is the current leader of Japan? What is the largest prime number that is smaller than their age?\")"
   ]
  },
  {
   "cell_type": "markdown",
   "id": "8808dc66",
   "metadata": {},
   "source": [
    "### Memory: Add state to chains and agents"
   ]
  },
  {
   "cell_type": "code",
   "execution_count": 26,
   "id": "dc3294d3",
   "metadata": {},
   "outputs": [],
   "source": [
    "from langchain import OpenAI, ConversationChain"
   ]
  },
  {
   "cell_type": "code",
   "execution_count": 27,
   "id": "397ac43c",
   "metadata": {},
   "outputs": [],
   "source": [
    "llm = OpenAI(temperature=0)\n",
    "conversation = ConversationChain(llm=llm, verbose=True)"
   ]
  },
  {
   "cell_type": "code",
   "execution_count": 28,
   "id": "9823cde5",
   "metadata": {},
   "outputs": [
    {
     "name": "stdout",
     "output_type": "stream",
     "text": [
      "\n",
      "\n",
      "\u001b[1m> Entering new ConversationChain chain...\u001b[0m\n",
      "Prompt after formatting:\n",
      "\u001b[32;1m\u001b[1;3mThe following is a friendly conversation between a human and an AI. The AI is talkative and provides lots of specific details from its context. If the AI does not know the answer to a question, it truthfully says it does not know.\n",
      "\n",
      "Current conversation:\n",
      "\n",
      "Human: Hi there!\n",
      "AI:\u001b[0m\n",
      "\n",
      "\u001b[1m> Finished chain.\u001b[0m\n"
     ]
    },
    {
     "data": {
      "text/plain": [
       "\" Hi there! It's nice to meet you. How can I help you today?\""
      ]
     },
     "execution_count": 28,
     "metadata": {},
     "output_type": "execute_result"
    }
   ],
   "source": [
    "conversation.predict(input=\"Hi there!\")"
   ]
  },
  {
   "cell_type": "code",
   "execution_count": 10,
   "id": "a3d547bc",
   "metadata": {},
   "outputs": [
    {
     "ename": "NameError",
     "evalue": "name 'conversation' is not defined",
     "output_type": "error",
     "traceback": [
      "\u001b[1;31m---------------------------------------------------------------------------\u001b[0m",
      "\u001b[1;31mNameError\u001b[0m                                 Traceback (most recent call last)",
      "Cell \u001b[1;32mIn[10], line 1\u001b[0m\n\u001b[1;32m----> 1\u001b[0m \u001b[43mconversation\u001b[49m\u001b[38;5;241m.\u001b[39mpredict(\u001b[38;5;28minput\u001b[39m\u001b[38;5;241m=\u001b[39m\u001b[38;5;124m\"\u001b[39m\u001b[38;5;124mI\u001b[39m\u001b[38;5;124m'\u001b[39m\u001b[38;5;124mm doing well! Just having a conversation with an AI.\u001b[39m\u001b[38;5;124m\"\u001b[39m)\n",
      "\u001b[1;31mNameError\u001b[0m: name 'conversation' is not defined"
     ]
    }
   ],
   "source": [
    "conversation.predict(input=\"I'm doing well! Just having a conversation with an AI.\")"
   ]
  },
  {
   "cell_type": "code",
   "execution_count": 30,
   "id": "bb71a25c",
   "metadata": {},
   "outputs": [
    {
     "name": "stdout",
     "output_type": "stream",
     "text": [
      "\n",
      "\n",
      "\u001b[1m> Entering new ConversationChain chain...\u001b[0m\n",
      "Prompt after formatting:\n",
      "\u001b[32;1m\u001b[1;3mThe following is a friendly conversation between a human and an AI. The AI is talkative and provides lots of specific details from its context. If the AI does not know the answer to a question, it truthfully says it does not know.\n",
      "\n",
      "Current conversation:\n",
      "\n",
      "Human: Hi there!\n",
      "AI:  Hi there! It's nice to meet you. How can I help you today?\n",
      "Human: I'm doing well! Just having a conversation with an AI.\n",
      "AI:  That's great! It's always nice to have a conversation with someone new. What would you like to talk about?\n",
      "Human: What was the first thing I said to you?\n",
      "AI:\u001b[0m\n",
      "\n",
      "\u001b[1m> Finished chain.\u001b[0m\n"
     ]
    },
    {
     "data": {
      "text/plain": [
       "' You said \"Hi there!\"'"
      ]
     },
     "execution_count": 30,
     "metadata": {},
     "output_type": "execute_result"
    }
   ],
   "source": [
    "conversation.predict(input=\"What was the first thing I said to you?\")"
   ]
  },
  {
   "cell_type": "code",
   "execution_count": 31,
   "id": "0d7daf49",
   "metadata": {},
   "outputs": [
    {
     "name": "stdout",
     "output_type": "stream",
     "text": [
      "\n",
      "\n",
      "\u001b[1m> Entering new ConversationChain chain...\u001b[0m\n",
      "Prompt after formatting:\n",
      "\u001b[32;1m\u001b[1;3mThe following is a friendly conversation between a human and an AI. The AI is talkative and provides lots of specific details from its context. If the AI does not know the answer to a question, it truthfully says it does not know.\n",
      "\n",
      "Current conversation:\n",
      "\n",
      "Human: Hi there!\n",
      "AI:  Hi there! It's nice to meet you. How can I help you today?\n",
      "Human: I'm doing well! Just having a conversation with an AI.\n",
      "AI:  That's great! It's always nice to have a conversation with someone new. What would you like to talk about?\n",
      "Human: What was the first thing I said to you?\n",
      "AI:  You said \"Hi there!\"\n",
      "Human: what is an alternative phrase for the first thing I said to you?\n",
      "AI:\u001b[0m\n",
      "\n",
      "\u001b[1m> Finished chain.\u001b[0m\n"
     ]
    },
    {
     "data": {
      "text/plain": [
       "' An alternative phrase for the first thing you said to me could be \"Greetings!\"'"
      ]
     },
     "execution_count": 31,
     "metadata": {},
     "output_type": "execute_result"
    }
   ],
   "source": [
    "conversation.predict(input=\"what is an alternative phrase for the first thing I said to you?\")"
   ]
  },
  {
   "cell_type": "code",
   "execution_count": null,
   "id": "f3934501",
   "metadata": {},
   "outputs": [],
   "source": []
  }
 ],
 "metadata": {
  "kernelspec": {
   "display_name": "Python 3 (ipykernel)",
   "language": "python",
   "name": "python3"
  },
  "language_info": {
   "codemirror_mode": {
    "name": "ipython",
    "version": 3
   },
   "file_extension": ".py",
   "mimetype": "text/x-python",
   "name": "python",
   "nbconvert_exporter": "python",
   "pygments_lexer": "ipython3",
   "version": "3.12.0"
  }
 },
 "nbformat": 4,
 "nbformat_minor": 5
}
